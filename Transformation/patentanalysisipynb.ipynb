{
  "cells": [
    {
      "cell_type": "markdown",
      "metadata": {
        "id": "agWakWjRW5oy"
      },
      "source": [
        "# 1. Installing PySpark in Google Colab\n"
      ]
    },
    {
      "cell_type": "code",
      "execution_count": null,
      "metadata": {
        "colab": {
          "base_uri": "https://localhost:8080/"
        },
        "id": "zncqwQkWW_qw",
        "outputId": "e536a30a-770c-4a6a-cdb6-cbe4dd0b9d58"
      },
      "outputs": [
        {
          "output_type": "stream",
          "name": "stdout",
          "text": [
            "\u001b[33m\r0% [Working]\u001b[0m\r            \rGet:1 https://cloud.r-project.org/bin/linux/ubuntu jammy-cran40/ InRelease [3,626 B]\n",
            "\u001b[33m\r0% [Connecting to archive.ubuntu.com (91.189.91.82)] [Waiting for headers] [1 I\u001b[0m\u001b[33m\r0% [Connecting to archive.ubuntu.com (91.189.91.82)] [Waiting for headers] [Con\u001b[0m\r                                                                               \rGet:2 https://developer.download.nvidia.com/compute/cuda/repos/ubuntu2204/x86_64  InRelease [1,581 B]\n",
            "\u001b[33m\r0% [Waiting for headers] [Waiting for headers] [Connecting to ppa.launchpadcont\u001b[0m\r                                                                               \rHit:3 http://archive.ubuntu.com/ubuntu jammy InRelease\n",
            "\u001b[33m\r0% [Waiting for headers] [Waiting for headers] [Connecting to ppa.launchpadcont\u001b[0m\r                                                                               \rGet:4 http://archive.ubuntu.com/ubuntu jammy-updates InRelease [119 kB]\n",
            "Get:5 http://security.ubuntu.com/ubuntu jammy-security InRelease [110 kB]\n",
            "Hit:6 http://archive.ubuntu.com/ubuntu jammy-backports InRelease\n",
            "Get:7 https://developer.download.nvidia.com/compute/cuda/repos/ubuntu2204/x86_64  Packages [872 kB]\n",
            "Hit:8 https://ppa.launchpadcontent.net/c2d4u.team/c2d4u4.0+/ubuntu jammy InRelease\n",
            "Hit:9 https://ppa.launchpadcontent.net/deadsnakes/ppa/ubuntu jammy InRelease\n",
            "Get:10 http://archive.ubuntu.com/ubuntu jammy-updates/main amd64 Packages [2,125 kB]\n",
            "Hit:11 https://ppa.launchpadcontent.net/graphics-drivers/ppa/ubuntu jammy InRelease\n",
            "Hit:12 https://ppa.launchpadcontent.net/ubuntugis/ppa/ubuntu jammy InRelease\n",
            "Fetched 3,231 kB in 2s (2,150 kB/s)\n",
            "Reading package lists... Done\n",
            "Building dependency tree... Done\n",
            "Reading state information... Done\n",
            "45 packages can be upgraded. Run 'apt list --upgradable' to see them.\n",
            "tar: spark-3.2.1-bin-hadoop3.2.tgz: Cannot open: No such file or directory\n",
            "tar: Error is not recoverable: exiting now\n",
            "Requirement already satisfied: pyspark in /usr/local/lib/python3.10/dist-packages (3.5.1)\n",
            "Requirement already satisfied: py4j==0.10.9.7 in /usr/local/lib/python3.10/dist-packages (from pyspark) (0.10.9.7)\n",
            "Requirement already satisfied: py4j in /usr/local/lib/python3.10/dist-packages (0.10.9.7)\n"
          ]
        }
      ],
      "source": [
        "!sudo apt update\n",
        "!apt-get install openjdk-8-jdk-headless -qq > /dev/null\n",
        "#Check this site for the latest download link https://www.apache.org/dyn/closer.lua/spark/spark-3.2.1/spark-3.2.1-bin-hadoop3.2.tgz\n",
        "!wget -q https://dlcdn.apache.org/spark/spark-3.2.1/spark-3.2.1-bin-hadoop3.2.tgz\n",
        "!tar xf spark-3.2.1-bin-hadoop3.2.tgz\n",
        "!pip install -q findspark\n",
        "!pip install pyspark\n",
        "!pip install py4j\n",
        "\n",
        "import os\n",
        "import sys\n",
        "# os.environ[\"JAVA_HOME\"] = \"/usr/lib/jvm/java-8-openjdk-amd64\"\n",
        "# os.environ[\"SPARK_HOME\"] = \"/content/spark-3.2.1-bin-hadoop3.2\"\n",
        "\n",
        "\n",
        "import findspark\n",
        "findspark.init()\n",
        "findspark.find()\n",
        "\n",
        "import pyspark\n",
        "\n",
        "from pyspark.sql import DataFrame, SparkSession\n",
        "from typing import List\n",
        "import pyspark.sql.types as T\n",
        "import pyspark.sql.functions as F\n",
        "\n"
      ]
    },
    {
      "cell_type": "markdown",
      "metadata": {
        "id": "PTBw05jfYC4F"
      },
      "source": [
        "# 2. Reading Data\n"
      ]
    },
    {
      "cell_type": "code",
      "execution_count": null,
      "metadata": {
        "colab": {
          "base_uri": "https://localhost:8080/"
        },
        "id": "t2gd9bZO71xn",
        "outputId": "dcc81e8f-737f-4c69-bf12-45df5ea6c5aa"
      },
      "outputs": [
        {
          "output_type": "stream",
          "name": "stdout",
          "text": [
            "+----------------+--------------------+-----------------------------------+-------------------------------+-------------+--------------------+----------------+----------+\n",
            "|              id|               title|                           assignee|                inventor/author|priority date|filing/creation date|publication date|grant date|\n",
            "+----------------+--------------------+-----------------------------------+-------------------------------+-------------+--------------------+----------------+----------+\n",
            "|  CN-114151200-A|            Igniter |         中国航发四川燃气涡轮研究院|  魏豪, 时远, 何鹏, 赵弦, 袁...|   2021-10-20|          2021-10-20|      2022-03-08|      NULL|\n",
            "|   US-9869277-B2|System, method an...|               Foret Plasma Labs...|                     Todd Foret|   2008-02-12|          2014-05-28|      2018-01-16|2018-01-16|\n",
            "|US-2021215100-A1|Blow down impinge...|               Rolls-Royce North...|           Michael John Head...|   2020-01-14|          2020-01-14|      2021-07-15|      NULL|\n",
            "|   US-7966830-B2|Fuel cell/combust...|                 The Boeing Company|               David L. Daggett|   2006-06-29|          2006-06-29|      2011-06-28|2011-06-28|\n",
            "|    GB-2602936-A|  Propulsion system |                   Derwent Tech Ltd|           Harold Speak Trev...|   2022-04-20|          2022-04-20|      2022-07-20|      NULL|\n",
            "|   EP-2086834-B1|Propulsion device...|               Airbus Operations...|           Andreas Westenberger|   2006-11-29|          2007-11-26|      2011-07-27|2011-07-27|\n",
            "|  US-11572840-B2|Multi-mode combus...|               General Electric ...|           Joel Meier Haynes...|   2019-12-03|          2019-12-03|      2023-02-07|2023-02-07|\n",
            "|  CN-112855343-A|Aviation power sy...| 中国航发商用航空发动机有限责任公司|           梁霄, 赵凌玲, 任家海|   2019-11-28|          2019-11-28|      2021-05-28|      NULL|\n",
            "|  CN-114109649-B|Superspeed ramjet...|               中国科学院力学研究所|仝晓通, 岳连捷, 张启帆, 陈昊...|   2021-11-15|          2021-11-15|      2022-11-22|2022-11-22|\n",
            "|  CN-108839807-A|A kind of novel m...|                     哈尔滨工业大学|秦江, 吕传文, 程昆林, 郭发福...|   2018-05-14|          2018-05-14|      2018-11-20|      NULL|\n",
            "|KR-20220002857-A|Aircraft prime mo...|쥐케이엔 에어로스페이스 서비시즈...|                  사이먼 테일러|   2018-10-15|          2019-10-15|      2022-01-07|      NULL|\n",
            "|US-2019293024-A1|Hydrogen-fueled s...|               Global Reach Aero...|           Preston Henry Carter|   2018-02-23|          2019-02-25|      2019-09-26|      NULL|\n",
            "|   US-9291124-B2|Combined cycle in...|               Aerojet Rocketdyn...|               Melvin J. Bulman|   2006-12-18|          2014-03-06|      2016-03-22|2016-03-22|\n",
            "|   RU-2462397-C2|Aircraft power pl...|               Эйрбас Оперейшнз ...|           Андреас ВЕСТЕНБЕР...|   2006-11-29|          2007-11-28|      2012-09-27|2012-09-27|\n",
            "|  US-11885260-B2|Gas turbine engin...|                    Rtx Corporation|           Amanda J. L. Bouc...|   2020-05-01|          2022-08-24|      2024-01-30|2024-01-30|\n",
            "|   US-8434292-B2|Ceramic-encased h...|               State Of Franklin...|           Martin P. Eason, ...|   2006-12-15|          2007-12-17|      2013-05-07|2013-05-07|\n",
            "|   US-7690192-B2|Compact, high per...|               Pratt & Whitney R...|           Robert J. Pederso...|   2007-04-17|          2007-05-22|      2010-04-06|2010-04-06|\n",
            "|   EP-2074324-B1|Core burning for ...|               Aerojet-General C...|               Melvin J. Bulman|   2006-10-18|          2007-10-15|      2013-02-27|2013-02-27|\n",
            "|    US-2655786-A|Method of operati...|               Phillips Petroleu...|                  Donald E Carr|   1950-09-18|          1950-09-18|      1953-10-20|1953-10-20|\n",
            "|  US-11542878-B2|Zero emission pro...|                 Lars Harald Heggen|             Lars Harald Heggen|   2017-08-14|          2021-10-18|      2023-01-03|2023-01-03|\n",
            "+----------------+--------------------+-----------------------------------+-------------------------------+-------------+--------------------+----------------+----------+\n",
            "only showing top 20 rows\n",
            "\n"
          ]
        }
      ],
      "source": [
        "from pyspark.sql import SparkSession\n",
        "spark = SparkSession.builder \\\n",
        "    .appName(\"our first session\") \\\n",
        "    .config(\"spark.sql.sessionEncoding\", \"UTF-8\") \\\n",
        "    .getOrCreate()\n",
        "\n",
        "df = spark.read.csv(\"googlePatents.csv\", header=True, encoding=\"UTF-8\")\n",
        "\n",
        "df.show()\n"
      ]
    },
    {
      "cell_type": "code",
      "execution_count": null,
      "metadata": {
        "colab": {
          "base_uri": "https://localhost:8080/"
        },
        "id": "RJIl_OESuhOH",
        "outputId": "e3cce2eb-25fa-4976-8fa1-7b090c7cd5c4"
      },
      "outputs": [
        {
          "output_type": "stream",
          "name": "stdout",
          "text": [
            "Number of rows in the google patent csv file: 155555\n"
          ]
        }
      ],
      "source": [
        "# prompt: je veux savoir le nombre de ligne de fichier csv google patent\n",
        "\n",
        "count = df.count()\n",
        "print(f\"Number of rows in the google patent csv file: {count}\")\n"
      ]
    },
    {
      "cell_type": "code",
      "execution_count": null,
      "metadata": {
        "colab": {
          "base_uri": "https://localhost:8080/"
        },
        "id": "a0Qqt61SjOdt",
        "outputId": "710baa96-1f39-4ad7-dd44-70adc2288d9a"
      },
      "outputs": [
        {
          "output_type": "stream",
          "name": "stdout",
          "text": [
            "root\n",
            " |-- id: string (nullable = true)\n",
            " |-- title: string (nullable = true)\n",
            " |-- assignee: string (nullable = true)\n",
            " |-- inventor/author: string (nullable = true)\n",
            " |-- priority date: string (nullable = true)\n",
            " |-- filing/creation date: string (nullable = true)\n",
            " |-- publication date: string (nullable = true)\n",
            " |-- grant date: string (nullable = true)\n",
            "\n"
          ]
        }
      ],
      "source": [
        "#Viewing the dataframe schema\n",
        "df.printSchema()"
      ]
    },
    {
      "cell_type": "code",
      "execution_count": null,
      "metadata": {
        "colab": {
          "base_uri": "https://localhost:8080/"
        },
        "id": "2nh5TOlXjdx8",
        "outputId": "25546f8d-8d68-4555-afd8-81f44a4e7e43"
      },
      "outputs": [
        {
          "output_type": "stream",
          "name": "stdout",
          "text": [
            "+--------------+--------------------+--------------------------+-------------------------------+-------------+--------------------+----------------+----------+\n",
            "|            id|               title|                  assignee|                inventor/author|priority date|filing/creation date|publication date|grant date|\n",
            "+--------------+--------------------+--------------------------+-------------------------------+-------------+--------------------+----------------+----------+\n",
            "|CN-114151200-A|            Igniter |中国航发四川燃气涡轮研究院|  魏豪, 时远, 何鹏, 赵弦, 袁...|   2021-10-20|          2021-10-20|      2022-03-08|      NULL|\n",
            "|CN-116677498-B|Novel hypersonic ...|中国航发四川燃气涡轮研究院|桂丰, 马存祥, 钟世林, 康玉东...|   2023-08-03|          2023-08-03|      2023-10-17|2023-10-17|\n",
            "|CN-116374179-A|Series hybrid ele...|中国航发四川燃气涡轮研究院|   伏宇, 王孝军, 刘昭威, 郑天慧|   2023-06-05|          2023-06-05|      2023-07-04|      NULL|\n",
            "|CN-108561898-B|Coaxial partition...|中国航发四川燃气涡轮研究院|  桂韬, 房人麟, 邱伟, 黄兵, ...|   2017-12-27|          2017-12-27|      2020-09-22|2020-09-22|\n",
            "+--------------+--------------------+--------------------------+-------------------------------+-------------+--------------------+----------------+----------+\n",
            "\n"
          ]
        }
      ],
      "source": [
        "\n",
        "f_df = df.filter(df['assignee'] == '中国航发四川燃气涡轮研究院')\n",
        "f_df.show()"
      ]
    },
    {
      "cell_type": "code",
      "execution_count": null,
      "metadata": {
        "colab": {
          "base_uri": "https://localhost:8080/"
        },
        "id": "DxnljDomN9oE",
        "outputId": "0df07014-0bee-46df-aa2e-de5ba676a014"
      },
      "outputs": [
        {
          "output_type": "stream",
          "name": "stdout",
          "text": [
            "+---+-----+--------+---------------+-------------+--------------------+----------------+----------+\n",
            "| id|title|assignee|inventor/author|priority date|filing/creation date|publication date|grant date|\n",
            "+---+-----+--------+---------------+-------------+--------------------+----------------+----------+\n",
            "+---+-----+--------+---------------+-------------+--------------------+----------------+----------+\n",
            "\n"
          ]
        }
      ],
      "source": [
        "f_df = df.filter(df['title'] == 'Igniter')\n",
        "f_df.show()\n",
        "#we have problem with filtering title sence we have chines language .."
      ]
    },
    {
      "cell_type": "code",
      "execution_count": null,
      "metadata": {
        "colab": {
          "base_uri": "https://localhost:8080/"
        },
        "id": "Ga7ynTt6jXAR",
        "outputId": "876ee659-e299-492f-90ee-fe4a40158917"
      },
      "outputs": [
        {
          "output_type": "stream",
          "name": "stdout",
          "text": [
            "+----------------+-----------------------------------------------------------------------------------------------------------------------+------------------------------------------------+-----------------------------------------------------------------------------------------------------------+-------------+--------------------+----------------+----------+\n",
            "|id              |title                                                                                                                  |assignee                                        |inventor/author                                                                                            |priority date|filing/creation date|publication date|grant date|\n",
            "+----------------+-----------------------------------------------------------------------------------------------------------------------+------------------------------------------------+-----------------------------------------------------------------------------------------------------------+-------------+--------------------+----------------+----------+\n",
            "|US-9869277-B2   |System, method and apparatus for lean combustion with plasma from an electrical arc                                    |Foret Plasma Labs, Llc                          |Todd Foret                                                                                                 |2008-02-12   |2014-05-28          |2018-01-16      |2018-01-16|\n",
            "|US-2021215100-A1|Blow down impingement start system                                                                                     |Rolls-Royce North American Technologies Inc.    |Michael John Head, Michael Karam, Timothy C. Roesler                                                       |2020-01-14   |2020-01-14          |2021-07-15      |NULL      |\n",
            "|US-7966830-B2   |Fuel cell/combustor systems and methods for aircraft and other applications                                            |The Boeing Company                              |David L. Daggett                                                                                           |2006-06-29   |2006-06-29          |2011-06-28      |2011-06-28|\n",
            "|GB-2602936-A    |Propulsion system                                                                                                      |Derwent Tech Ltd                                |Harold Speak Trevor, John Sellick Robert                                                                   |2022-04-20   |2022-04-20          |2022-07-20      |NULL      |\n",
            "|EP-2086834-B1   |Propulsion device with a plurality of energy converters for an aircraft                                                |Airbus Operations GmbH                          |Andreas Westenberger                                                                                       |2006-11-29   |2007-11-26          |2011-07-27      |2011-07-27|\n",
            "|US-11572840-B2  |Multi-mode combustion control for a rotating detonation combustion system                                              |General Electric Company                        |Joel Meier Haynes, Sarah Marie Monahan, Thomas Michael Lavertu, Venkat Eswarlu Tangirala, Kapil Kumar Singh|2019-12-03   |2019-12-03          |2023-02-07      |2023-02-07|\n",
            "|KR-20220002857-A|Aircraft prime mover systems, how they work and how to use them                                                        |쥐케이엔 에어로스페이스 서비시즈 리미티드       |사이먼 테일러                                                                                              |2018-10-15   |2019-10-15          |2022-01-07      |NULL      |\n",
            "|US-2019293024-A1|Hydrogen-fueled supersonic turboramjet engine                                                                          |Global Reach Aerospace LLC                      |Preston Henry Carter                                                                                       |2018-02-23   |2019-02-25          |2019-09-26      |NULL      |\n",
            "|US-9291124-B2   |Combined cycle integrated combustor and nozzle system                                                                  |Aerojet Rocketdyne, Inc.                        |Melvin J. Bulman                                                                                           |2006-12-18   |2014-03-06          |2016-03-22      |2016-03-22|\n",
            "|RU-2462397-C2   |Aircraft power plant                                                                                                   |Эйрбас Оперейшнз Гмбх                           |Андреас ВЕСТЕНБЕРГЕР (DE), Андреас ВЕСТЕНБЕРГЕР                                                            |2006-11-29   |2007-11-28          |2012-09-27      |2012-09-27|\n",
            "|US-11885260-B2  |Gas turbine engines having cryogenic fuel systems                                                                      |Rtx Corporation                                 |Amanda J. L. Boucher, Joseph B. Staubach                                                                   |2020-05-01   |2022-08-24          |2024-01-30      |2024-01-30|\n",
            "|US-8434292-B2   |Ceramic-encased hot surface igniter system for jet engines                                                             |State Of Franklin Innovations, Llc              |Martin P. Eason, William K. Hemphill, Martin E. Olsen, J. Paul Sims                                        |2006-12-15   |2007-12-17          |2013-05-07      |2013-05-07|\n",
            "|US-7690192-B2   |Compact, high performance swirl combustion rocket engine                                                               |Pratt & Whitney Rocketdyne, Inc.                |Robert J. Pederson, Stephen N. Schmotolocha                                                                |2007-04-17   |2007-05-22          |2010-04-06      |2010-04-06|\n",
            "|EP-2074324-B1   |Core burning for scramjet engines                                                                                      |Aerojet-General Corporation                     |Melvin J. Bulman                                                                                           |2006-10-18   |2007-10-15          |2013-02-27      |2013-02-27|\n",
            "|US-2655786-A    |Method of operating jet engines with fuel reforming                                                                    |Phillips Petroleum Co                           |Donald E Carr                                                                                              |1950-09-18   |1950-09-18          |1953-10-20      |1953-10-20|\n",
            "|US-11542878-B2  |Zero emission propulsion systems and generator sets using ammonia as fuel                                              |Lars Harald Heggen                              |Lars Harald Heggen                                                                                         |2017-08-14   |2021-10-18          |2023-01-03      |2023-01-03|\n",
            "|US-2008283677-A1|Single-stage hypersonic vehicle featuring advanced swirl combustion                                                    |Pratt & Whitney Rocketdyne, Inc.                |Robert J. Pederson, Stephen N. Schmotolocha, William W. Follett                                            |2006-12-05   |2006-12-05          |2008-11-20      |NULL      |\n",
            "|US-9410869-B2   |Process for testing a compressor or a combustor of a gas turbine engine using a large compressed air storage reservoir |S & J Design Llc                                |Joseph D Brostmeyer, Robert L Memmen                                                                       |2011-03-29   |2015-11-06          |2016-08-09      |2016-08-09|\n",
            "|US-8893467-B2   |Direct injection of a discrete quantity of fuel into channels of a wave rotor engine                                   |Indiana University Research And Technology Corp.|Razi Nalim, Pejman Akbari                                                                                  |2006-06-15   |2013-04-23          |2014-11-25      |2014-11-25|\n",
            "|US-9051909-B2   |Multifuel storage, metering and ignition system                                                                        |Mcalister Technologies, Llc                     |Roy Edward McAlister                                                                                       |2008-01-07   |2012-10-30          |2015-06-09      |2015-06-09|\n",
            "+----------------+-----------------------------------------------------------------------------------------------------------------------+------------------------------------------------+-----------------------------------------------------------------------------------------------------------+-------------+--------------------+----------------+----------+\n",
            "only showing top 20 rows\n",
            "\n",
            "Nombre total de lignes dans filtered_df : 102606\n"
          ]
        }
      ],
      "source": [
        "from pyspark.sql.functions import col\n",
        "filtered_df = df.filter(~(col('id').startswith('JP') | col('id').startswith('CN')))\n",
        "filtered_df.show(truncate=False)\n",
        "total_rows = filtered_df.count()\n",
        "print(\"Nombre total de lignes dans filtered_df :\", total_rows)"
      ]
    },
    {
      "cell_type": "code",
      "execution_count": null,
      "metadata": {
        "colab": {
          "base_uri": "https://localhost:8080/"
        },
        "id": "kTvSWfLjTd8D",
        "outputId": "3b11b6e2-5391-4b56-eff6-a02e00334a5c"
      },
      "outputs": [
        {
          "output_type": "stream",
          "name": "stdout",
          "text": [
            "+----------------+--------------------+-----------------------------------+--------------------+-------------+--------------------+----------------+----------+-------------+\n",
            "|              id|               title|                           assignee|     inventor/author|priority date|filing/creation date|publication date|grant date|source_scrape|\n",
            "+----------------+--------------------+-----------------------------------+--------------------+-------------+--------------------+----------------+----------+-------------+\n",
            "|   US-9869277-B2|System, method an...|               Foret Plasma Labs...|          Todd Foret|   2008-02-12|          2014-05-28|      2018-01-16|2018-01-16|google patent|\n",
            "|US-2021215100-A1|Blow down impinge...|               Rolls-Royce North...|Michael John Head...|   2020-01-14|          2020-01-14|      2021-07-15|      NULL|   Espace net|\n",
            "|   US-7966830-B2|Fuel cell/combust...|                 The Boeing Company|    David L. Daggett|   2006-06-29|          2006-06-29|      2011-06-28|2011-06-28|google patent|\n",
            "|    GB-2602936-A|  Propulsion system |                   Derwent Tech Ltd|Harold Speak Trev...|   2022-04-20|          2022-04-20|      2022-07-20|      NULL|google patent|\n",
            "|   EP-2086834-B1|Propulsion device...|               Airbus Operations...|Andreas Westenberger|   2006-11-29|          2007-11-26|      2011-07-27|2011-07-27|google patent|\n",
            "|  US-11572840-B2|Multi-mode combus...|               General Electric ...|Joel Meier Haynes...|   2019-12-03|          2019-12-03|      2023-02-07|2023-02-07|   Espace net|\n",
            "|KR-20220002857-A|Aircraft prime mo...|쥐케이엔 에어로스페이스 서비시즈...|       사이먼 테일러|   2018-10-15|          2019-10-15|      2022-01-07|      NULL|google patent|\n",
            "|US-2019293024-A1|Hydrogen-fueled s...|               Global Reach Aero...|Preston Henry Carter|   2018-02-23|          2019-02-25|      2019-09-26|      NULL|   Espace net|\n",
            "|   US-9291124-B2|Combined cycle in...|               Aerojet Rocketdyn...|    Melvin J. Bulman|   2006-12-18|          2014-03-06|      2016-03-22|2016-03-22|google patent|\n",
            "|   RU-2462397-C2|Aircraft power pl...|               Эйрбас Оперейшнз ...|Андреас ВЕСТЕНБЕР...|   2006-11-29|          2007-11-28|      2012-09-27|2012-09-27|google patent|\n",
            "|  US-11885260-B2|Gas turbine engin...|                    Rtx Corporation|Amanda J. L. Bouc...|   2020-05-01|          2022-08-24|      2024-01-30|2024-01-30|google patent|\n",
            "|   US-8434292-B2|Ceramic-encased h...|               State Of Franklin...|Martin P. Eason, ...|   2006-12-15|          2007-12-17|      2013-05-07|2013-05-07|google patent|\n",
            "|   US-7690192-B2|Compact, high per...|               Pratt & Whitney R...|Robert J. Pederso...|   2007-04-17|          2007-05-22|      2010-04-06|2010-04-06|google patent|\n",
            "|   EP-2074324-B1|Core burning for ...|               Aerojet-General C...|    Melvin J. Bulman|   2006-10-18|          2007-10-15|      2013-02-27|2013-02-27|        uspto|\n",
            "|    US-2655786-A|Method of operati...|               Phillips Petroleu...|       Donald E Carr|   1950-09-18|          1950-09-18|      1953-10-20|1953-10-20|   Espace net|\n",
            "|  US-11542878-B2|Zero emission pro...|                 Lars Harald Heggen|  Lars Harald Heggen|   2017-08-14|          2021-10-18|      2023-01-03|2023-01-03|google patent|\n",
            "|US-2008283677-A1|Single-stage hype...|               Pratt & Whitney R...|Robert J. Pederso...|   2006-12-05|          2006-12-05|      2008-11-20|      NULL|google patent|\n",
            "|   US-9410869-B2|Process for testi...|                   S & J Design Llc|Joseph D Brostmey...|   2011-03-29|          2015-11-06|      2016-08-09|2016-08-09|google patent|\n",
            "|   US-8893467-B2|Direct injection ...|               Indiana Universit...|Razi Nalim, Pejma...|   2006-06-15|          2013-04-23|      2014-11-25|2014-11-25|        uspto|\n",
            "|   US-9051909-B2|Multifuel storage...|               Mcalister Technol...|Roy Edward McAlister|   2008-01-07|          2012-10-30|      2015-06-09|2015-06-09|         wipo|\n",
            "+----------------+--------------------+-----------------------------------+--------------------+-------------+--------------------+----------------+----------+-------------+\n",
            "only showing top 20 rows\n",
            "\n"
          ]
        }
      ],
      "source": [
        "import random\n",
        "from pyspark.sql.functions import lit\n",
        "from pyspark.sql import functions as F\n",
        "\n",
        "# Define the sources and their respective weights\n",
        "sources = [\"uspto\", \"google patent\", \"wipo\", \"Espace net\"]\n",
        "weights = [0.2, 0.5, 0.15, 0.15]  # Corresponding weights for each source\n",
        "random.seed(123)\n",
        "# Create a function to randomly select a source based on weights\n",
        "def random_source():\n",
        "    return random.choices(sources, weights)[0]\n",
        "\n",
        "# Define a Spark UDF (User Defined Function) to apply the random source selection\n",
        "random_source_udf = F.udf(random_source)\n",
        "\n",
        "# Add a new column with the randomly chosen source to the DataFrame\n",
        "filtered_df = filtered_df.withColumn(\"source_scrape\", random_source_udf())\n",
        "\n",
        "# Show the DataFrame with the new column\n",
        "filtered_df.show(truncate=True)\n"
      ]
    },
    {
      "cell_type": "code",
      "execution_count": null,
      "metadata": {
        "colab": {
          "base_uri": "https://localhost:8080/"
        },
        "id": "LbE8LbHoWEup",
        "outputId": "b33a8cde-eb32-4897-ba2d-f6a4a3b2acc8"
      },
      "outputs": [
        {
          "output_type": "stream",
          "name": "stdout",
          "text": [
            "+----------------+-----------------------------------------------------------------------------------------------------------------------+------------------------------------------------+-----------------------------------------------------------------------------------------------------------+-------------+--------------------+----------------+----------+-------------+-------+\n",
            "|id              |title                                                                                                                  |assignee                                        |inventor/author                                                                                            |priority date|filing/creation date|publication date|grant date|source_scrape|country|\n",
            "+----------------+-----------------------------------------------------------------------------------------------------------------------+------------------------------------------------+-----------------------------------------------------------------------------------------------------------+-------------+--------------------+----------------+----------+-------------+-------+\n",
            "|US-9869277-B2   |System, method and apparatus for lean combustion with plasma from an electrical arc                                    |Foret Plasma Labs, Llc                          |Todd Foret                                                                                                 |2008-02-12   |2014-05-28          |2018-01-16      |2018-01-16|google patent|US     |\n",
            "|US-2021215100-A1|Blow down impingement start system                                                                                     |Rolls-Royce North American Technologies Inc.    |Michael John Head, Michael Karam, Timothy C. Roesler                                                       |2020-01-14   |2020-01-14          |2021-07-15      |NULL      |Espace net   |US     |\n",
            "|US-7966830-B2   |Fuel cell/combustor systems and methods for aircraft and other applications                                            |The Boeing Company                              |David L. Daggett                                                                                           |2006-06-29   |2006-06-29          |2011-06-28      |2011-06-28|google patent|US     |\n",
            "|GB-2602936-A    |Propulsion system                                                                                                      |Derwent Tech Ltd                                |Harold Speak Trevor, John Sellick Robert                                                                   |2022-04-20   |2022-04-20          |2022-07-20      |NULL      |google patent|GB     |\n",
            "|EP-2086834-B1   |Propulsion device with a plurality of energy converters for an aircraft                                                |Airbus Operations GmbH                          |Andreas Westenberger                                                                                       |2006-11-29   |2007-11-26          |2011-07-27      |2011-07-27|google patent|EP     |\n",
            "|US-11572840-B2  |Multi-mode combustion control for a rotating detonation combustion system                                              |General Electric Company                        |Joel Meier Haynes, Sarah Marie Monahan, Thomas Michael Lavertu, Venkat Eswarlu Tangirala, Kapil Kumar Singh|2019-12-03   |2019-12-03          |2023-02-07      |2023-02-07|uspto        |US     |\n",
            "|KR-20220002857-A|Aircraft prime mover systems, how they work and how to use them                                                        |쥐케이엔 에어로스페이스 서비시즈 리미티드       |사이먼 테일러                                                                                              |2018-10-15   |2019-10-15          |2022-01-07      |NULL      |google patent|KR     |\n",
            "|US-2019293024-A1|Hydrogen-fueled supersonic turboramjet engine                                                                          |Global Reach Aerospace LLC                      |Preston Henry Carter                                                                                       |2018-02-23   |2019-02-25          |2019-09-26      |NULL      |google patent|US     |\n",
            "|US-9291124-B2   |Combined cycle integrated combustor and nozzle system                                                                  |Aerojet Rocketdyne, Inc.                        |Melvin J. Bulman                                                                                           |2006-12-18   |2014-03-06          |2016-03-22      |2016-03-22|Espace net   |US     |\n",
            "|RU-2462397-C2   |Aircraft power plant                                                                                                   |Эйрбас Оперейшнз Гмбх                           |Андреас ВЕСТЕНБЕРГЕР (DE), Андреас ВЕСТЕНБЕРГЕР                                                            |2006-11-29   |2007-11-28          |2012-09-27      |2012-09-27|wipo         |RU     |\n",
            "|US-11885260-B2  |Gas turbine engines having cryogenic fuel systems                                                                      |Rtx Corporation                                 |Amanda J. L. Boucher, Joseph B. Staubach                                                                   |2020-05-01   |2022-08-24          |2024-01-30      |2024-01-30|uspto        |US     |\n",
            "|US-8434292-B2   |Ceramic-encased hot surface igniter system for jet engines                                                             |State Of Franklin Innovations, Llc              |Martin P. Eason, William K. Hemphill, Martin E. Olsen, J. Paul Sims                                        |2006-12-15   |2007-12-17          |2013-05-07      |2013-05-07|google patent|US     |\n",
            "|US-7690192-B2   |Compact, high performance swirl combustion rocket engine                                                               |Pratt & Whitney Rocketdyne, Inc.                |Robert J. Pederson, Stephen N. Schmotolocha                                                                |2007-04-17   |2007-05-22          |2010-04-06      |2010-04-06|google patent|US     |\n",
            "|EP-2074324-B1   |Core burning for scramjet engines                                                                                      |Aerojet-General Corporation                     |Melvin J. Bulman                                                                                           |2006-10-18   |2007-10-15          |2013-02-27      |2013-02-27|google patent|EP     |\n",
            "|US-2655786-A    |Method of operating jet engines with fuel reforming                                                                    |Phillips Petroleum Co                           |Donald E Carr                                                                                              |1950-09-18   |1950-09-18          |1953-10-20      |1953-10-20|google patent|US     |\n",
            "|US-11542878-B2  |Zero emission propulsion systems and generator sets using ammonia as fuel                                              |Lars Harald Heggen                              |Lars Harald Heggen                                                                                         |2017-08-14   |2021-10-18          |2023-01-03      |2023-01-03|Espace net   |US     |\n",
            "|US-2008283677-A1|Single-stage hypersonic vehicle featuring advanced swirl combustion                                                    |Pratt & Whitney Rocketdyne, Inc.                |Robert J. Pederson, Stephen N. Schmotolocha, William W. Follett                                            |2006-12-05   |2006-12-05          |2008-11-20      |NULL      |wipo         |US     |\n",
            "|US-9410869-B2   |Process for testing a compressor or a combustor of a gas turbine engine using a large compressed air storage reservoir |S & J Design Llc                                |Joseph D Brostmeyer, Robert L Memmen                                                                       |2011-03-29   |2015-11-06          |2016-08-09      |2016-08-09|wipo         |US     |\n",
            "|US-8893467-B2   |Direct injection of a discrete quantity of fuel into channels of a wave rotor engine                                   |Indiana University Research And Technology Corp.|Razi Nalim, Pejman Akbari                                                                                  |2006-06-15   |2013-04-23          |2014-11-25      |2014-11-25|google patent|US     |\n",
            "|US-9051909-B2   |Multifuel storage, metering and ignition system                                                                        |Mcalister Technologies, Llc                     |Roy Edward McAlister                                                                                       |2008-01-07   |2012-10-30          |2015-06-09      |2015-06-09|google patent|US     |\n",
            "+----------------+-----------------------------------------------------------------------------------------------------------------------+------------------------------------------------+-----------------------------------------------------------------------------------------------------------+-------------+--------------------+----------------+----------+-------------+-------+\n",
            "only showing top 20 rows\n",
            "\n"
          ]
        }
      ],
      "source": [
        "from pyspark.sql.functions import col, substring\n",
        "filtered_df = filtered_df.withColumn(\"country\", substring(col(\"id\"), 1, 2))\n",
        "filtered_df.show(truncate=False)"
      ]
    },
    {
      "cell_type": "code",
      "execution_count": null,
      "metadata": {
        "colab": {
          "base_uri": "https://localhost:8080/"
        },
        "id": "dr1vgHjGr4Ns",
        "outputId": "74e30553-21ec-409a-b09d-e6fb5b2f2fec"
      },
      "outputs": [
        {
          "output_type": "stream",
          "name": "stdout",
          "text": [
            "+----------------+-----------------------------------------------------------------------------------------------------------------------+------------------------------------------------+-----------------------------------------------------------------------------------------------------------+-------------+--------------------+----------------+----------+-------------+-------+-------------------------+\n",
            "|id              |title                                                                                                                  |assignee                                        |inventor/author                                                                                            |priority date|filing/creation date|publication date|grant date|source_scrape|country|country_full             |\n",
            "+----------------+-----------------------------------------------------------------------------------------------------------------------+------------------------------------------------+-----------------------------------------------------------------------------------------------------------+-------------+--------------------+----------------+----------+-------------+-------+-------------------------+\n",
            "|US-9869277-B2   |System, method and apparatus for lean combustion with plasma from an electrical arc                                    |Foret Plasma Labs, Llc                          |Todd Foret                                                                                                 |2008-02-12   |2014-05-28          |2018-01-16      |2018-01-16|Espace net   |US     |United States            |\n",
            "|US-2021215100-A1|Blow down impingement start system                                                                                     |Rolls-Royce North American Technologies Inc.    |Michael John Head, Michael Karam, Timothy C. Roesler                                                       |2020-01-14   |2020-01-14          |2021-07-15      |NULL      |google patent|US     |United States            |\n",
            "|US-7966830-B2   |Fuel cell/combustor systems and methods for aircraft and other applications                                            |The Boeing Company                              |David L. Daggett                                                                                           |2006-06-29   |2006-06-29          |2011-06-28      |2011-06-28|Espace net   |US     |United States            |\n",
            "|GB-2602936-A    |Propulsion system                                                                                                      |Derwent Tech Ltd                                |Harold Speak Trevor, John Sellick Robert                                                                   |2022-04-20   |2022-04-20          |2022-07-20      |NULL      |google patent|GB     |United Kingdom           |\n",
            "|EP-2086834-B1   |Propulsion device with a plurality of energy converters for an aircraft                                                |Airbus Operations GmbH                          |Andreas Westenberger                                                                                       |2006-11-29   |2007-11-26          |2011-07-27      |2011-07-27|Espace net   |EP     |Europe (European patents)|\n",
            "|US-11572840-B2  |Multi-mode combustion control for a rotating detonation combustion system                                              |General Electric Company                        |Joel Meier Haynes, Sarah Marie Monahan, Thomas Michael Lavertu, Venkat Eswarlu Tangirala, Kapil Kumar Singh|2019-12-03   |2019-12-03          |2023-02-07      |2023-02-07|wipo         |US     |United States            |\n",
            "|KR-20220002857-A|Aircraft prime mover systems, how they work and how to use them                                                        |쥐케이엔 에어로스페이스 서비시즈 리미티드       |사이먼 테일러                                                                                              |2018-10-15   |2019-10-15          |2022-01-07      |NULL      |uspto        |KR     |South Korea              |\n",
            "|US-2019293024-A1|Hydrogen-fueled supersonic turboramjet engine                                                                          |Global Reach Aerospace LLC                      |Preston Henry Carter                                                                                       |2018-02-23   |2019-02-25          |2019-09-26      |NULL      |google patent|US     |United States            |\n",
            "|US-9291124-B2   |Combined cycle integrated combustor and nozzle system                                                                  |Aerojet Rocketdyne, Inc.                        |Melvin J. Bulman                                                                                           |2006-12-18   |2014-03-06          |2016-03-22      |2016-03-22|google patent|US     |United States            |\n",
            "|RU-2462397-C2   |Aircraft power plant                                                                                                   |Эйрбас Оперейшнз Гмбх                           |Андреас ВЕСТЕНБЕРГЕР (DE), Андреас ВЕСТЕНБЕРГЕР                                                            |2006-11-29   |2007-11-28          |2012-09-27      |2012-09-27|uspto        |RU     |Russia                   |\n",
            "|US-11885260-B2  |Gas turbine engines having cryogenic fuel systems                                                                      |Rtx Corporation                                 |Amanda J. L. Boucher, Joseph B. Staubach                                                                   |2020-05-01   |2022-08-24          |2024-01-30      |2024-01-30|google patent|US     |United States            |\n",
            "|US-8434292-B2   |Ceramic-encased hot surface igniter system for jet engines                                                             |State Of Franklin Innovations, Llc              |Martin P. Eason, William K. Hemphill, Martin E. Olsen, J. Paul Sims                                        |2006-12-15   |2007-12-17          |2013-05-07      |2013-05-07|google patent|US     |United States            |\n",
            "|US-7690192-B2   |Compact, high performance swirl combustion rocket engine                                                               |Pratt & Whitney Rocketdyne, Inc.                |Robert J. Pederson, Stephen N. Schmotolocha                                                                |2007-04-17   |2007-05-22          |2010-04-06      |2010-04-06|Espace net   |US     |United States            |\n",
            "|EP-2074324-B1   |Core burning for scramjet engines                                                                                      |Aerojet-General Corporation                     |Melvin J. Bulman                                                                                           |2006-10-18   |2007-10-15          |2013-02-27      |2013-02-27|uspto        |EP     |Europe (European patents)|\n",
            "|US-2655786-A    |Method of operating jet engines with fuel reforming                                                                    |Phillips Petroleum Co                           |Donald E Carr                                                                                              |1950-09-18   |1950-09-18          |1953-10-20      |1953-10-20|google patent|US     |United States            |\n",
            "|US-11542878-B2  |Zero emission propulsion systems and generator sets using ammonia as fuel                                              |Lars Harald Heggen                              |Lars Harald Heggen                                                                                         |2017-08-14   |2021-10-18          |2023-01-03      |2023-01-03|google patent|US     |United States            |\n",
            "|US-2008283677-A1|Single-stage hypersonic vehicle featuring advanced swirl combustion                                                    |Pratt & Whitney Rocketdyne, Inc.                |Robert J. Pederson, Stephen N. Schmotolocha, William W. Follett                                            |2006-12-05   |2006-12-05          |2008-11-20      |NULL      |google patent|US     |United States            |\n",
            "|US-9410869-B2   |Process for testing a compressor or a combustor of a gas turbine engine using a large compressed air storage reservoir |S & J Design Llc                                |Joseph D Brostmeyer, Robert L Memmen                                                                       |2011-03-29   |2015-11-06          |2016-08-09      |2016-08-09|uspto        |US     |United States            |\n",
            "|US-8893467-B2   |Direct injection of a discrete quantity of fuel into channels of a wave rotor engine                                   |Indiana University Research And Technology Corp.|Razi Nalim, Pejman Akbari                                                                                  |2006-06-15   |2013-04-23          |2014-11-25      |2014-11-25|google patent|US     |United States            |\n",
            "|US-9051909-B2   |Multifuel storage, metering and ignition system                                                                        |Mcalister Technologies, Llc                     |Roy Edward McAlister                                                                                       |2008-01-07   |2012-10-30          |2015-06-09      |2015-06-09|google patent|US     |United States            |\n",
            "+----------------+-----------------------------------------------------------------------------------------------------------------------+------------------------------------------------+-----------------------------------------------------------------------------------------------------------+-------------+--------------------+----------------+----------+-------------+-------+-------------------------+\n",
            "only showing top 20 rows\n",
            "\n"
          ]
        }
      ],
      "source": [
        "from pyspark.sql.functions import col, substring\n",
        "from pyspark.sql.functions import col, substring, udf\n",
        "from pyspark.sql.types import StringType\n",
        "\n",
        "# Dictionnaire de correspondance des abréviations aux noms complets des pays\n",
        "pays_complets = {\n",
        "    'LT': 'Lithuania',\n",
        "    'FI': 'Finland',\n",
        "    'UA': 'Ukraine',\n",
        "    'EA': 'European Economic Area (EEA)',\n",
        "    'RO': 'Romania',\n",
        "    'NL': 'Netherlands',\n",
        "    'EP': 'Europe (European patents)',\n",
        "    'PL': 'Poland',\n",
        "    'MX': 'Mexico',\n",
        "    'AT': 'Austria',\n",
        "    'RU': 'Russia',\n",
        "    'HR': 'Croatia',\n",
        "    'CZ': 'Czech Republic',\n",
        "    'PT': 'Portugal',\n",
        "    'WO': 'World Intellectual Property Organization (WIPO)',\n",
        "    'TW': 'Taiwan',\n",
        "    'OA': 'Africa (African patents)',\n",
        "    'SU': 'Soviet Union',\n",
        "    'DD': 'East Germany',\n",
        "    'AU': 'Australia',\n",
        "    'SA': 'Saudi Arabia',\n",
        "    'CA': 'Canada',\n",
        "    'GB': 'United Kingdom',\n",
        "    'BR': 'Brazil',\n",
        "    'DE': 'Germany',\n",
        "    'ES': 'Spain',\n",
        "    'IL': 'Israel',\n",
        "    'TR': 'Turkey',\n",
        "    'ZA': 'South Africa',\n",
        "    'KR': 'South Korea',\n",
        "    'US': 'United States',\n",
        "    'FR': 'France',\n",
        "    'CH': 'Switzerland',\n",
        "    'SG': 'Singapore',\n",
        "    'IT': 'Italy',\n",
        "    'SE': 'Sweden',\n",
        "    'BG': 'Bulgaria',\n",
        "    'PH': 'Philippines',\n",
        "    'SK': 'Slovakia',\n",
        "    'LV': 'Latvia',\n",
        "    'TH': 'Thailand',\n",
        "    'CS': 'Czechoslovakia',\n",
        "    'NZ': 'New Zealand',\n",
        "    'HU': 'Hungary',\n",
        "    'SI': 'Slovenia',\n",
        "    'IE': 'Ireland',\n",
        "    'BE': 'Belgium',\n",
        "    'MA': 'Morocco',\n",
        "    'NO': 'Norway',\n",
        "    'AR': 'Argentina',\n",
        "    'LU': 'Luxembourg',\n",
        "    'DK': 'Denmark',\n",
        "    'GR': 'Greece'\n",
        "}\n",
        "\n",
        "\n",
        "# Fonction pour remplacer les abréviations par les noms complets des pays\n",
        "def replace_country_abbreviations(country_abbrev):\n",
        "    return pays_complets.get(country_abbrev, country_abbrev)\n",
        "\n",
        "# Créer une fonction UDF (User Defined Function)\n",
        "replace_country_abbreviations_udf = udf(replace_country_abbreviations)\n",
        "\n",
        "# Remplacer les abréviations dans la colonne \"country\" par les noms complets des pays\n",
        "filtered_df = filtered_df.withColumn(\"country_full\", replace_country_abbreviations_udf(col(\"country\")))\n",
        "\n",
        "# Afficher le DataFrame avec les noms complets des pays\n",
        "filtered_df.show(truncate=False)"
      ]
    },
    {
      "cell_type": "code",
      "execution_count": null,
      "metadata": {
        "colab": {
          "base_uri": "https://localhost:8080/"
        },
        "id": "gu_iNLOmP6Q3",
        "outputId": "7814ae2c-16b5-4a98-9704-3eb000a0622d"
      },
      "outputs": [
        {
          "output_type": "stream",
          "name": "stdout",
          "text": [
            "+----------------+--------------------+-----------------------------------+--------------------+-------------+--------------------+----------------+----------+-------------+-------+--------------------+-----------------------------+\n",
            "|              id|               title|                           assignee|     inventor/author|priority date|filing/creation date|publication date|grant date|source_scrape|country|        country_full|grant_to_filing_duration_days|\n",
            "+----------------+--------------------+-----------------------------------+--------------------+-------------+--------------------+----------------+----------+-------------+-------+--------------------+-----------------------------+\n",
            "|   US-9869277-B2|System, method an...|               Foret Plasma Labs...|          Todd Foret|   2008-02-12|          2014-05-28|      2018-01-16|2018-01-16|google patent|     US|       United States|                         1329|\n",
            "|US-2021215100-A1|Blow down impinge...|               Rolls-Royce North...|Michael John Head...|   2020-01-14|          2020-01-14|      2021-07-15|      NULL|   Espace net|     US|       United States|                         NULL|\n",
            "|   US-7966830-B2|Fuel cell/combust...|                 The Boeing Company|    David L. Daggett|   2006-06-29|          2006-06-29|      2011-06-28|2011-06-28|google patent|     US|       United States|                         1825|\n",
            "|    GB-2602936-A|  Propulsion system |                   Derwent Tech Ltd|Harold Speak Trev...|   2022-04-20|          2022-04-20|      2022-07-20|      NULL|         wipo|     GB|      United Kingdom|                         NULL|\n",
            "|   EP-2086834-B1|Propulsion device...|               Airbus Operations...|Andreas Westenberger|   2006-11-29|          2007-11-26|      2011-07-27|2011-07-27|google patent|     EP|Europe (European ...|                         1339|\n",
            "|  US-11572840-B2|Multi-mode combus...|               General Electric ...|Joel Meier Haynes...|   2019-12-03|          2019-12-03|      2023-02-07|2023-02-07|google patent|     US|       United States|                         1162|\n",
            "|KR-20220002857-A|Aircraft prime mo...|쥐케이엔 에어로스페이스 서비시즈...|       사이먼 테일러|   2018-10-15|          2019-10-15|      2022-01-07|      NULL|        uspto|     KR|         South Korea|                         NULL|\n",
            "|US-2019293024-A1|Hydrogen-fueled s...|               Global Reach Aero...|Preston Henry Carter|   2018-02-23|          2019-02-25|      2019-09-26|      NULL|google patent|     US|       United States|                         NULL|\n",
            "|   US-9291124-B2|Combined cycle in...|               Aerojet Rocketdyn...|    Melvin J. Bulman|   2006-12-18|          2014-03-06|      2016-03-22|2016-03-22|        uspto|     US|       United States|                          747|\n",
            "|   RU-2462397-C2|Aircraft power pl...|               Эйрбас Оперейшнз ...|Андреас ВЕСТЕНБЕР...|   2006-11-29|          2007-11-28|      2012-09-27|2012-09-27|         wipo|     RU|              Russia|                         1765|\n",
            "|  US-11885260-B2|Gas turbine engin...|                    Rtx Corporation|Amanda J. L. Bouc...|   2020-05-01|          2022-08-24|      2024-01-30|2024-01-30|   Espace net|     US|       United States|                          524|\n",
            "|   US-8434292-B2|Ceramic-encased h...|               State Of Franklin...|Martin P. Eason, ...|   2006-12-15|          2007-12-17|      2013-05-07|2013-05-07|google patent|     US|       United States|                         1968|\n",
            "|   US-7690192-B2|Compact, high per...|               Pratt & Whitney R...|Robert J. Pederso...|   2007-04-17|          2007-05-22|      2010-04-06|2010-04-06|google patent|     US|       United States|                         1050|\n",
            "|   EP-2074324-B1|Core burning for ...|               Aerojet-General C...|    Melvin J. Bulman|   2006-10-18|          2007-10-15|      2013-02-27|2013-02-27|        uspto|     EP|Europe (European ...|                         1962|\n",
            "|    US-2655786-A|Method of operati...|               Phillips Petroleu...|       Donald E Carr|   1950-09-18|          1950-09-18|      1953-10-20|1953-10-20|   Espace net|     US|       United States|                         1128|\n",
            "|  US-11542878-B2|Zero emission pro...|                 Lars Harald Heggen|  Lars Harald Heggen|   2017-08-14|          2021-10-18|      2023-01-03|2023-01-03|google patent|     US|       United States|                          442|\n",
            "|US-2008283677-A1|Single-stage hype...|               Pratt & Whitney R...|Robert J. Pederso...|   2006-12-05|          2006-12-05|      2008-11-20|      NULL|google patent|     US|       United States|                         NULL|\n",
            "|   US-9410869-B2|Process for testi...|                   S & J Design Llc|Joseph D Brostmey...|   2011-03-29|          2015-11-06|      2016-08-09|2016-08-09|google patent|     US|       United States|                          277|\n",
            "|   US-8893467-B2|Direct injection ...|               Indiana Universit...|Razi Nalim, Pejma...|   2006-06-15|          2013-04-23|      2014-11-25|2014-11-25|   Espace net|     US|       United States|                          581|\n",
            "|   US-9051909-B2|Multifuel storage...|               Mcalister Technol...|Roy Edward McAlister|   2008-01-07|          2012-10-30|      2015-06-09|2015-06-09|google patent|     US|       United States|                          952|\n",
            "+----------------+--------------------+-----------------------------------+--------------------+-------------+--------------------+----------------+----------+-------------+-------+--------------------+-----------------------------+\n",
            "only showing top 20 rows\n",
            "\n"
          ]
        }
      ],
      "source": [
        "from pyspark.sql.functions import datediff\n",
        "\n",
        "filtered_df = filtered_df.withColumn(\"grant_to_filing_duration_days\",\n",
        "                                     datediff(\"grant date\", \"filing/creation date\"))\n",
        "\n",
        "filtered_df.show()\n"
      ]
    },
    {
      "cell_type": "code",
      "execution_count": null,
      "metadata": {
        "colab": {
          "base_uri": "https://localhost:8080/"
        },
        "id": "cFPTYrh2V9np",
        "outputId": "07e742de-cd0c-492c-daa5-ac7d7bb0160a"
      },
      "outputs": [
        {
          "output_type": "stream",
          "name": "stdout",
          "text": [
            "+----------------+--------------------+-----------------------------------+--------------------+-------------+--------------------+----------------+----------+-------------+-------+--------------------+-----------------------------+--------------------------------+\n",
            "|              id|               title|                           assignee|     inventor/author|priority date|filing/creation date|publication date|grant date|source_scrape|country|        country_full|grant_to_filing_duration_days|filing_to_priority_duration_days|\n",
            "+----------------+--------------------+-----------------------------------+--------------------+-------------+--------------------+----------------+----------+-------------+-------+--------------------+-----------------------------+--------------------------------+\n",
            "|   US-9869277-B2|System, method an...|               Foret Plasma Labs...|          Todd Foret|   2008-02-12|          2014-05-28|      2018-01-16|2018-01-16|        uspto|     US|       United States|                         1329|                            2297|\n",
            "|US-2021215100-A1|Blow down impinge...|               Rolls-Royce North...|Michael John Head...|   2020-01-14|          2020-01-14|      2021-07-15|      NULL|         wipo|     US|       United States|                         NULL|                               0|\n",
            "|   US-7966830-B2|Fuel cell/combust...|                 The Boeing Company|    David L. Daggett|   2006-06-29|          2006-06-29|      2011-06-28|2011-06-28|google patent|     US|       United States|                         1825|                               0|\n",
            "|    GB-2602936-A|  Propulsion system |                   Derwent Tech Ltd|Harold Speak Trev...|   2022-04-20|          2022-04-20|      2022-07-20|      NULL|        uspto|     GB|      United Kingdom|                         NULL|                               0|\n",
            "|   EP-2086834-B1|Propulsion device...|               Airbus Operations...|Andreas Westenberger|   2006-11-29|          2007-11-26|      2011-07-27|2011-07-27|google patent|     EP|Europe (European ...|                         1339|                             362|\n",
            "|  US-11572840-B2|Multi-mode combus...|               General Electric ...|Joel Meier Haynes...|   2019-12-03|          2019-12-03|      2023-02-07|2023-02-07|   Espace net|     US|       United States|                         1162|                               0|\n",
            "|KR-20220002857-A|Aircraft prime mo...|쥐케이엔 에어로스페이스 서비시즈...|       사이먼 테일러|   2018-10-15|          2019-10-15|      2022-01-07|      NULL|google patent|     KR|         South Korea|                         NULL|                             365|\n",
            "|US-2019293024-A1|Hydrogen-fueled s...|               Global Reach Aero...|Preston Henry Carter|   2018-02-23|          2019-02-25|      2019-09-26|      NULL|   Espace net|     US|       United States|                         NULL|                             367|\n",
            "|   US-9291124-B2|Combined cycle in...|               Aerojet Rocketdyn...|    Melvin J. Bulman|   2006-12-18|          2014-03-06|      2016-03-22|2016-03-22|   Espace net|     US|       United States|                          747|                            2635|\n",
            "|   RU-2462397-C2|Aircraft power pl...|               Эйрбас Оперейшнз ...|Андреас ВЕСТЕНБЕР...|   2006-11-29|          2007-11-28|      2012-09-27|2012-09-27|google patent|     RU|              Russia|                         1765|                             364|\n",
            "|  US-11885260-B2|Gas turbine engin...|                    Rtx Corporation|Amanda J. L. Bouc...|   2020-05-01|          2022-08-24|      2024-01-30|2024-01-30|   Espace net|     US|       United States|                          524|                             845|\n",
            "|   US-8434292-B2|Ceramic-encased h...|               State Of Franklin...|Martin P. Eason, ...|   2006-12-15|          2007-12-17|      2013-05-07|2013-05-07|   Espace net|     US|       United States|                         1968|                             367|\n",
            "|   US-7690192-B2|Compact, high per...|               Pratt & Whitney R...|Robert J. Pederso...|   2007-04-17|          2007-05-22|      2010-04-06|2010-04-06|        uspto|     US|       United States|                         1050|                              35|\n",
            "|   EP-2074324-B1|Core burning for ...|               Aerojet-General C...|    Melvin J. Bulman|   2006-10-18|          2007-10-15|      2013-02-27|2013-02-27|        uspto|     EP|Europe (European ...|                         1962|                             362|\n",
            "|    US-2655786-A|Method of operati...|               Phillips Petroleu...|       Donald E Carr|   1950-09-18|          1950-09-18|      1953-10-20|1953-10-20|        uspto|     US|       United States|                         1128|                               0|\n",
            "|  US-11542878-B2|Zero emission pro...|                 Lars Harald Heggen|  Lars Harald Heggen|   2017-08-14|          2021-10-18|      2023-01-03|2023-01-03|   Espace net|     US|       United States|                          442|                            1526|\n",
            "|US-2008283677-A1|Single-stage hype...|               Pratt & Whitney R...|Robert J. Pederso...|   2006-12-05|          2006-12-05|      2008-11-20|      NULL|google patent|     US|       United States|                         NULL|                               0|\n",
            "|   US-9410869-B2|Process for testi...|                   S & J Design Llc|Joseph D Brostmey...|   2011-03-29|          2015-11-06|      2016-08-09|2016-08-09|        uspto|     US|       United States|                          277|                            1683|\n",
            "|   US-8893467-B2|Direct injection ...|               Indiana Universit...|Razi Nalim, Pejma...|   2006-06-15|          2013-04-23|      2014-11-25|2014-11-25|google patent|     US|       United States|                          581|                            2504|\n",
            "|   US-9051909-B2|Multifuel storage...|               Mcalister Technol...|Roy Edward McAlister|   2008-01-07|          2012-10-30|      2015-06-09|2015-06-09|google patent|     US|       United States|                          952|                            1758|\n",
            "+----------------+--------------------+-----------------------------------+--------------------+-------------+--------------------+----------------+----------+-------------+-------+--------------------+-----------------------------+--------------------------------+\n",
            "only showing top 20 rows\n",
            "\n"
          ]
        }
      ],
      "source": [
        "filtered_df = filtered_df.withColumn(\"filing_to_priority_duration_days\",\n",
        "                                     datediff(col(\"`filing/creation date`\"), col(\"`priority date`\")))\n",
        "\n",
        "filtered_df.show()\n"
      ]
    },
    {
      "cell_type": "code",
      "source": [
        "# Rename the column \"filing/creation date\" to \"creation date\"\n",
        "filtered_df = filtered_df.withColumnRenamed(\"filing/creation date\", \"creation_date\")\n",
        "\n",
        "# Show the DataFrame with the renamed column\n",
        "filtered_df.show()\n"
      ],
      "metadata": {
        "colab": {
          "base_uri": "https://localhost:8080/"
        },
        "id": "gg4z9opSd3bA",
        "outputId": "b819a27a-3af8-4b34-dbd8-8817ff7c8baf"
      },
      "execution_count": null,
      "outputs": [
        {
          "output_type": "stream",
          "name": "stdout",
          "text": [
            "+----------------+--------------------+-----------------------------------+--------------------+-------------+-------------+----------------+----------+-------------+-------+--------------------+-----------------------------+--------------------------------+\n",
            "|              id|               title|                           assignee|     inventor/author|priority date|creation_date|publication date|grant date|source_scrape|country|        country_full|grant_to_filing_duration_days|filing_to_priority_duration_days|\n",
            "+----------------+--------------------+-----------------------------------+--------------------+-------------+-------------+----------------+----------+-------------+-------+--------------------+-----------------------------+--------------------------------+\n",
            "|   US-9869277-B2|System, method an...|               Foret Plasma Labs...|          Todd Foret|   2008-02-12|   2014-05-28|      2018-01-16|2018-01-16|google patent|     US|       United States|                         1329|                            2297|\n",
            "|US-2021215100-A1|Blow down impinge...|               Rolls-Royce North...|Michael John Head...|   2020-01-14|   2020-01-14|      2021-07-15|      NULL|   Espace net|     US|       United States|                         NULL|                               0|\n",
            "|   US-7966830-B2|Fuel cell/combust...|                 The Boeing Company|    David L. Daggett|   2006-06-29|   2006-06-29|      2011-06-28|2011-06-28|         wipo|     US|       United States|                         1825|                               0|\n",
            "|    GB-2602936-A|  Propulsion system |                   Derwent Tech Ltd|Harold Speak Trev...|   2022-04-20|   2022-04-20|      2022-07-20|      NULL|google patent|     GB|      United Kingdom|                         NULL|                               0|\n",
            "|   EP-2086834-B1|Propulsion device...|               Airbus Operations...|Andreas Westenberger|   2006-11-29|   2007-11-26|      2011-07-27|2011-07-27|google patent|     EP|Europe (European ...|                         1339|                             362|\n",
            "|  US-11572840-B2|Multi-mode combus...|               General Electric ...|Joel Meier Haynes...|   2019-12-03|   2019-12-03|      2023-02-07|2023-02-07|        uspto|     US|       United States|                         1162|                               0|\n",
            "|KR-20220002857-A|Aircraft prime mo...|쥐케이엔 에어로스페이스 서비시즈...|       사이먼 테일러|   2018-10-15|   2019-10-15|      2022-01-07|      NULL|google patent|     KR|         South Korea|                         NULL|                             365|\n",
            "|US-2019293024-A1|Hydrogen-fueled s...|               Global Reach Aero...|Preston Henry Carter|   2018-02-23|   2019-02-25|      2019-09-26|      NULL|google patent|     US|       United States|                         NULL|                             367|\n",
            "|   US-9291124-B2|Combined cycle in...|               Aerojet Rocketdyn...|    Melvin J. Bulman|   2006-12-18|   2014-03-06|      2016-03-22|2016-03-22|         wipo|     US|       United States|                          747|                            2635|\n",
            "|   RU-2462397-C2|Aircraft power pl...|               Эйрбас Оперейшнз ...|Андреас ВЕСТЕНБЕР...|   2006-11-29|   2007-11-28|      2012-09-27|2012-09-27|google patent|     RU|              Russia|                         1765|                             364|\n",
            "|  US-11885260-B2|Gas turbine engin...|                    Rtx Corporation|Amanda J. L. Bouc...|   2020-05-01|   2022-08-24|      2024-01-30|2024-01-30|google patent|     US|       United States|                          524|                             845|\n",
            "|   US-8434292-B2|Ceramic-encased h...|               State Of Franklin...|Martin P. Eason, ...|   2006-12-15|   2007-12-17|      2013-05-07|2013-05-07|google patent|     US|       United States|                         1968|                             367|\n",
            "|   US-7690192-B2|Compact, high per...|               Pratt & Whitney R...|Robert J. Pederso...|   2007-04-17|   2007-05-22|      2010-04-06|2010-04-06|google patent|     US|       United States|                         1050|                              35|\n",
            "|   EP-2074324-B1|Core burning for ...|               Aerojet-General C...|    Melvin J. Bulman|   2006-10-18|   2007-10-15|      2013-02-27|2013-02-27|google patent|     EP|Europe (European ...|                         1962|                             362|\n",
            "|    US-2655786-A|Method of operati...|               Phillips Petroleu...|       Donald E Carr|   1950-09-18|   1950-09-18|      1953-10-20|1953-10-20|   Espace net|     US|       United States|                         1128|                               0|\n",
            "|  US-11542878-B2|Zero emission pro...|                 Lars Harald Heggen|  Lars Harald Heggen|   2017-08-14|   2021-10-18|      2023-01-03|2023-01-03|   Espace net|     US|       United States|                          442|                            1526|\n",
            "|US-2008283677-A1|Single-stage hype...|               Pratt & Whitney R...|Robert J. Pederso...|   2006-12-05|   2006-12-05|      2008-11-20|      NULL|         wipo|     US|       United States|                         NULL|                               0|\n",
            "|   US-9410869-B2|Process for testi...|                   S & J Design Llc|Joseph D Brostmey...|   2011-03-29|   2015-11-06|      2016-08-09|2016-08-09|google patent|     US|       United States|                          277|                            1683|\n",
            "|   US-8893467-B2|Direct injection ...|               Indiana Universit...|Razi Nalim, Pejma...|   2006-06-15|   2013-04-23|      2014-11-25|2014-11-25|   Espace net|     US|       United States|                          581|                            2504|\n",
            "|   US-9051909-B2|Multifuel storage...|               Mcalister Technol...|Roy Edward McAlister|   2008-01-07|   2012-10-30|      2015-06-09|2015-06-09|        uspto|     US|       United States|                          952|                            1758|\n",
            "+----------------+--------------------+-----------------------------------+--------------------+-------------+-------------+----------------+----------+-------------+-------+--------------------+-----------------------------+--------------------------------+\n",
            "only showing top 20 rows\n",
            "\n"
          ]
        }
      ]
    },
    {
      "cell_type": "code",
      "source": [
        "filtered_df = filtered_df.withColumnRenamed(\"priority date\", \"priority_date\")\n",
        "filtered_df = filtered_df.withColumnRenamed(\"inventor/author\", \"inventor\")\n",
        "filtered_df = filtered_df.withColumnRenamed(\"publication date\", \"publication_date\")\n",
        "filtered_df = filtered_df.withColumnRenamed(\"grant date\", \"grant_date\")\n",
        "\n",
        "\n"
      ],
      "metadata": {
        "id": "3jiHswz3eseH"
      },
      "execution_count": null,
      "outputs": []
    },
    {
      "cell_type": "code",
      "execution_count": null,
      "metadata": {
        "colab": {
          "base_uri": "https://localhost:8080/"
        },
        "id": "t0OXh4YObRgP",
        "outputId": "9907426e-29b3-4554-ba74-9c6348788e6f"
      },
      "outputs": [
        {
          "output_type": "stream",
          "name": "stdout",
          "text": [
            "+----------------+--------------------+-----------------------------------+--------------------+-------------+-------------+----------------+----------+-------------+-------+--------------------+-----------------------------+--------------------------------+-------------------------------------+\n",
            "|              id|               title|                           assignee|            inventor|priority_date|creation_date|publication_date|grant_date|source_scrape|country|        country_full|grant_to_filing_duration_days|filing_to_priority_duration_days|creation_to_publication_duration_days|\n",
            "+----------------+--------------------+-----------------------------------+--------------------+-------------+-------------+----------------+----------+-------------+-------+--------------------+-----------------------------+--------------------------------+-------------------------------------+\n",
            "|   US-9869277-B2|System, method an...|               Foret Plasma Labs...|          Todd Foret|   2008-02-12|   2014-05-28|      2018-01-16|2018-01-16|google patent|     US|       United States|                         1329|                            2297|                                 1329|\n",
            "|US-2021215100-A1|Blow down impinge...|               Rolls-Royce North...|Michael John Head...|   2020-01-14|   2020-01-14|      2021-07-15|      NULL|google patent|     US|       United States|                         NULL|                               0|                                  548|\n",
            "|   US-7966830-B2|Fuel cell/combust...|                 The Boeing Company|    David L. Daggett|   2006-06-29|   2006-06-29|      2011-06-28|2011-06-28|         wipo|     US|       United States|                         1825|                               0|                                 1825|\n",
            "|    GB-2602936-A|  Propulsion system |                   Derwent Tech Ltd|Harold Speak Trev...|   2022-04-20|   2022-04-20|      2022-07-20|      NULL|google patent|     GB|      United Kingdom|                         NULL|                               0|                                   91|\n",
            "|   EP-2086834-B1|Propulsion device...|               Airbus Operations...|Andreas Westenberger|   2006-11-29|   2007-11-26|      2011-07-27|2011-07-27|google patent|     EP|Europe (European ...|                         1339|                             362|                                 1339|\n",
            "|  US-11572840-B2|Multi-mode combus...|               General Electric ...|Joel Meier Haynes...|   2019-12-03|   2019-12-03|      2023-02-07|2023-02-07|google patent|     US|       United States|                         1162|                               0|                                 1162|\n",
            "|KR-20220002857-A|Aircraft prime mo...|쥐케이엔 에어로스페이스 서비시즈...|       사이먼 테일러|   2018-10-15|   2019-10-15|      2022-01-07|      NULL|        uspto|     KR|         South Korea|                         NULL|                             365|                                  815|\n",
            "|US-2019293024-A1|Hydrogen-fueled s...|               Global Reach Aero...|Preston Henry Carter|   2018-02-23|   2019-02-25|      2019-09-26|      NULL|google patent|     US|       United States|                         NULL|                             367|                                  213|\n",
            "|   US-9291124-B2|Combined cycle in...|               Aerojet Rocketdyn...|    Melvin J. Bulman|   2006-12-18|   2014-03-06|      2016-03-22|2016-03-22|google patent|     US|       United States|                          747|                            2635|                                  747|\n",
            "|   RU-2462397-C2|Aircraft power pl...|               Эйрбас Оперейшнз ...|Андреас ВЕСТЕНБЕР...|   2006-11-29|   2007-11-28|      2012-09-27|2012-09-27|google patent|     RU|              Russia|                         1765|                             364|                                 1765|\n",
            "|  US-11885260-B2|Gas turbine engin...|                    Rtx Corporation|Amanda J. L. Bouc...|   2020-05-01|   2022-08-24|      2024-01-30|2024-01-30|google patent|     US|       United States|                          524|                             845|                                  524|\n",
            "|   US-8434292-B2|Ceramic-encased h...|               State Of Franklin...|Martin P. Eason, ...|   2006-12-15|   2007-12-17|      2013-05-07|2013-05-07|         wipo|     US|       United States|                         1968|                             367|                                 1968|\n",
            "|   US-7690192-B2|Compact, high per...|               Pratt & Whitney R...|Robert J. Pederso...|   2007-04-17|   2007-05-22|      2010-04-06|2010-04-06|   Espace net|     US|       United States|                         1050|                              35|                                 1050|\n",
            "|   EP-2074324-B1|Core burning for ...|               Aerojet-General C...|    Melvin J. Bulman|   2006-10-18|   2007-10-15|      2013-02-27|2013-02-27|google patent|     EP|Europe (European ...|                         1962|                             362|                                 1962|\n",
            "|    US-2655786-A|Method of operati...|               Phillips Petroleu...|       Donald E Carr|   1950-09-18|   1950-09-18|      1953-10-20|1953-10-20|google patent|     US|       United States|                         1128|                               0|                                 1128|\n",
            "|  US-11542878-B2|Zero emission pro...|                 Lars Harald Heggen|  Lars Harald Heggen|   2017-08-14|   2021-10-18|      2023-01-03|2023-01-03|   Espace net|     US|       United States|                          442|                            1526|                                  442|\n",
            "|US-2008283677-A1|Single-stage hype...|               Pratt & Whitney R...|Robert J. Pederso...|   2006-12-05|   2006-12-05|      2008-11-20|      NULL|google patent|     US|       United States|                         NULL|                               0|                                  716|\n",
            "|   US-9410869-B2|Process for testi...|                   S & J Design Llc|Joseph D Brostmey...|   2011-03-29|   2015-11-06|      2016-08-09|2016-08-09|   Espace net|     US|       United States|                          277|                            1683|                                  277|\n",
            "|   US-8893467-B2|Direct injection ...|               Indiana Universit...|Razi Nalim, Pejma...|   2006-06-15|   2013-04-23|      2014-11-25|2014-11-25|         wipo|     US|       United States|                          581|                            2504|                                  581|\n",
            "|   US-9051909-B2|Multifuel storage...|               Mcalister Technol...|Roy Edward McAlister|   2008-01-07|   2012-10-30|      2015-06-09|2015-06-09|google patent|     US|       United States|                          952|                            1758|                                  952|\n",
            "+----------------+--------------------+-----------------------------------+--------------------+-------------+-------------+----------------+----------+-------------+-------+--------------------+-----------------------------+--------------------------------+-------------------------------------+\n",
            "only showing top 20 rows\n",
            "\n"
          ]
        }
      ],
      "source": [
        "filtered_df = filtered_df.withColumn(\"creation_to_publication_duration_days\",\n",
        "                                     datediff(col(\"publication_date\"), col(\"creation_date\")))\n",
        "\n",
        "filtered_df.show()\n"
      ]
    },
    {
      "cell_type": "code",
      "execution_count": null,
      "metadata": {
        "colab": {
          "base_uri": "https://localhost:8080/"
        },
        "id": "B0GwgCAtthAU",
        "outputId": "ea9cfb25-e053-4a55-ed71-a3309bb802c8"
      },
      "outputs": [
        {
          "output_type": "stream",
          "name": "stdout",
          "text": [
            "Nombre total de lignes dans filtered_df_with_names : 102606\n"
          ]
        }
      ],
      "source": [
        "\n",
        "total_rows = filtered_df.count()\n",
        "print(\"Nombre total de lignes dans filtered_df_with_names :\", total_rows)\n"
      ]
    },
    {
      "cell_type": "code",
      "execution_count": null,
      "metadata": {
        "colab": {
          "base_uri": "https://localhost:8080/"
        },
        "id": "bVr1-l-qWdWY",
        "outputId": "d95fbe73-79ed-43ef-871d-f4951bad8aa1"
      },
      "outputs": [
        {
          "output_type": "stream",
          "name": "stdout",
          "text": [
            "root\n",
            " |-- id: string (nullable = true)\n",
            " |-- title: string (nullable = true)\n",
            " |-- assignee: string (nullable = true)\n",
            " |-- inventor: string (nullable = true)\n",
            " |-- priority_date: string (nullable = true)\n",
            " |-- creation_date: string (nullable = true)\n",
            " |-- publication_date: string (nullable = true)\n",
            " |-- grant_date: string (nullable = true)\n",
            " |-- source_scrape: string (nullable = true)\n",
            " |-- country: string (nullable = true)\n",
            " |-- country_full: string (nullable = true)\n",
            " |-- grant_to_filing_duration_days: integer (nullable = true)\n",
            " |-- filing_to_priority_duration_days: integer (nullable = true)\n",
            " |-- creation_to_publication_duration_days: integer (nullable = true)\n",
            "\n"
          ]
        }
      ],
      "source": [
        "filtered_df.printSchema()"
      ]
    },
    {
      "cell_type": "code",
      "source": [
        "from pyspark.sql.functions import col, isnan, when, count\n",
        "\n",
        "# Iterate over each column in the DataFrame\n",
        "for column in filtered_df.columns:\n",
        "    # Count the number of null values in the column\n",
        "    null_count = filtered_df.where(col(column).isNull()).count()\n",
        "    # Print the column name and the number of null values\n",
        "    print(f\"Column '{column}' has {null_count} null values\")\n",
        "\n",
        "# Alternatively, you can use the 'isNull' function with 'select' and 'alias' to create a DataFrame with null counts\n",
        "null_counts_df = filtered_df.select([count(when(isnan(c) | col(c).isNull(), c)).alias(c) for c in filtered_df.columns])\n",
        "# Show the DataFrame with null counts\n",
        "null_counts_df.show()\n"
      ],
      "metadata": {
        "colab": {
          "base_uri": "https://localhost:8080/"
        },
        "id": "8vYOZjD4AJ4V",
        "outputId": "ea254671-3c25-464c-d2f0-b002a0241b78"
      },
      "execution_count": null,
      "outputs": [
        {
          "output_type": "stream",
          "name": "stdout",
          "text": [
            "Column 'id' has 0 null values\n",
            "Column 'title' has 0 null values\n",
            "Column 'assignee' has 75 null values\n",
            "Column 'inventor' has 346 null values\n",
            "Column 'priority_date' has 129 null values\n",
            "Column 'creation_date' has 33 null values\n",
            "Column 'publication_date' has 9 null values\n",
            "Column 'grant_date' has 26224 null values\n",
            "Column 'source_scrape' has 0 null values\n",
            "Column 'country' has 0 null values\n",
            "Column 'country_full' has 0 null values\n",
            "Column 'grant_to_filing_duration_days' has 26255 null values\n",
            "Column 'filing_to_priority_duration_days' has 169 null values\n",
            "Column 'creation_to_publication_duration_days' has 48 null values\n",
            "+---+-----+--------+--------+-------------+-------------+----------------+----------+-------------+-------+------------+-----------------------------+--------------------------------+-------------------------------------+\n",
            "| id|title|assignee|inventor|priority_date|creation_date|publication_date|grant_date|source_scrape|country|country_full|grant_to_filing_duration_days|filing_to_priority_duration_days|creation_to_publication_duration_days|\n",
            "+---+-----+--------+--------+-------------+-------------+----------------+----------+-------------+-------+------------+-----------------------------+--------------------------------+-------------------------------------+\n",
            "|  0|    0|      75|     346|          129|           33|               9|     26224|            0|      0|           0|                        26255|                             169|                                   48|\n",
            "+---+-----+--------+--------+-------------+-------------+----------------+----------+-------------+-------+------------+-----------------------------+--------------------------------+-------------------------------------+\n",
            "\n"
          ]
        }
      ]
    },
    {
      "cell_type": "code",
      "source": [
        "from pyspark.sql.functions import when\n",
        "\n",
        "# Handle missing values for 'assignee' and 'inventor' columns\n",
        "filled_df = filtered_df.fillna({'assignee': 'unknown', 'inventor': 'unknown'})\n",
        "\n",
        "# Handle missing values for date columns ('priority_date', 'creation_date', 'publication_date', 'grant_date')\n",
        "# Assuming 'unknown' isn't suitable for date columns, we can replace null values with a placeholder date or leave them as null\n",
        "# Let's replace null values with a placeholder date '1900-01-01' for demonstration purposes\n",
        "date_columns = ['priority_date', 'creation_date', 'publication_date', 'grant_date']\n",
        "for column in date_columns:\n",
        "    filled_df = filled_df.withColumn(column, when(col(column).isNull(), '1900-01-01').otherwise(col(column)))\n",
        "\n",
        "# Handle missing values for other columns (numeric columns)\n",
        "# We can replace null values with 0 for numeric columns ('grant_to_filing_duration_days', 'filing_to_priority_duration_days', 'creation_to_publication_duration_days')\n",
        "numeric_columns = ['grant_to_filing_duration_days', 'filing_to_priority_duration_days', 'creation_to_publication_duration_days']\n",
        "for column in numeric_columns:\n",
        "    filled_df = filled_df.fillna({column: 111111})\n",
        "\n",
        "# Verify the changes\n",
        "filled_df.show()\n"
      ],
      "metadata": {
        "colab": {
          "base_uri": "https://localhost:8080/"
        },
        "id": "Vs_MQynkBH0L",
        "outputId": "b2f0f1d7-54a1-4663-d637-e228786f05fb"
      },
      "execution_count": null,
      "outputs": [
        {
          "output_type": "stream",
          "name": "stdout",
          "text": [
            "+----------------+--------------------+-----------------------------------+--------------------+-------------+-------------+----------------+----------+-------------+-------+--------------------+-----------------------------+--------------------------------+-------------------------------------+\n",
            "|              id|               title|                           assignee|            inventor|priority_date|creation_date|publication_date|grant_date|source_scrape|country|        country_full|grant_to_filing_duration_days|filing_to_priority_duration_days|creation_to_publication_duration_days|\n",
            "+----------------+--------------------+-----------------------------------+--------------------+-------------+-------------+----------------+----------+-------------+-------+--------------------+-----------------------------+--------------------------------+-------------------------------------+\n",
            "|   US-9869277-B2|System, method an...|               Foret Plasma Labs...|          Todd Foret|   2008-02-12|   2014-05-28|      2018-01-16|2018-01-16|google patent|     US|       United States|                         1329|                            2297|                                 1329|\n",
            "|US-2021215100-A1|Blow down impinge...|               Rolls-Royce North...|Michael John Head...|   2020-01-14|   2020-01-14|      2021-07-15|1900-01-01|        uspto|     US|       United States|                       111111|                               0|                                  548|\n",
            "|   US-7966830-B2|Fuel cell/combust...|                 The Boeing Company|    David L. Daggett|   2006-06-29|   2006-06-29|      2011-06-28|2011-06-28|google patent|     US|       United States|                         1825|                               0|                                 1825|\n",
            "|    GB-2602936-A|  Propulsion system |                   Derwent Tech Ltd|Harold Speak Trev...|   2022-04-20|   2022-04-20|      2022-07-20|1900-01-01|   Espace net|     GB|      United Kingdom|                       111111|                               0|                                   91|\n",
            "|   EP-2086834-B1|Propulsion device...|               Airbus Operations...|Andreas Westenberger|   2006-11-29|   2007-11-26|      2011-07-27|2011-07-27|   Espace net|     EP|Europe (European ...|                         1339|                             362|                                 1339|\n",
            "|  US-11572840-B2|Multi-mode combus...|               General Electric ...|Joel Meier Haynes...|   2019-12-03|   2019-12-03|      2023-02-07|2023-02-07|        uspto|     US|       United States|                         1162|                               0|                                 1162|\n",
            "|KR-20220002857-A|Aircraft prime mo...|쥐케이엔 에어로스페이스 서비시즈...|       사이먼 테일러|   2018-10-15|   2019-10-15|      2022-01-07|1900-01-01|google patent|     KR|         South Korea|                       111111|                             365|                                  815|\n",
            "|US-2019293024-A1|Hydrogen-fueled s...|               Global Reach Aero...|Preston Henry Carter|   2018-02-23|   2019-02-25|      2019-09-26|1900-01-01|google patent|     US|       United States|                       111111|                             367|                                  213|\n",
            "|   US-9291124-B2|Combined cycle in...|               Aerojet Rocketdyn...|    Melvin J. Bulman|   2006-12-18|   2014-03-06|      2016-03-22|2016-03-22|         wipo|     US|       United States|                          747|                            2635|                                  747|\n",
            "|   RU-2462397-C2|Aircraft power pl...|               Эйрбас Оперейшнз ...|Андреас ВЕСТЕНБЕР...|   2006-11-29|   2007-11-28|      2012-09-27|2012-09-27|         wipo|     RU|              Russia|                         1765|                             364|                                 1765|\n",
            "|  US-11885260-B2|Gas turbine engin...|                    Rtx Corporation|Amanda J. L. Bouc...|   2020-05-01|   2022-08-24|      2024-01-30|2024-01-30|google patent|     US|       United States|                          524|                             845|                                  524|\n",
            "|   US-8434292-B2|Ceramic-encased h...|               State Of Franklin...|Martin P. Eason, ...|   2006-12-15|   2007-12-17|      2013-05-07|2013-05-07|        uspto|     US|       United States|                         1968|                             367|                                 1968|\n",
            "|   US-7690192-B2|Compact, high per...|               Pratt & Whitney R...|Robert J. Pederso...|   2007-04-17|   2007-05-22|      2010-04-06|2010-04-06|google patent|     US|       United States|                         1050|                              35|                                 1050|\n",
            "|   EP-2074324-B1|Core burning for ...|               Aerojet-General C...|    Melvin J. Bulman|   2006-10-18|   2007-10-15|      2013-02-27|2013-02-27|        uspto|     EP|Europe (European ...|                         1962|                             362|                                 1962|\n",
            "|    US-2655786-A|Method of operati...|               Phillips Petroleu...|       Donald E Carr|   1950-09-18|   1950-09-18|      1953-10-20|1953-10-20|         wipo|     US|       United States|                         1128|                               0|                                 1128|\n",
            "|  US-11542878-B2|Zero emission pro...|                 Lars Harald Heggen|  Lars Harald Heggen|   2017-08-14|   2021-10-18|      2023-01-03|2023-01-03|google patent|     US|       United States|                          442|                            1526|                                  442|\n",
            "|US-2008283677-A1|Single-stage hype...|               Pratt & Whitney R...|Robert J. Pederso...|   2006-12-05|   2006-12-05|      2008-11-20|1900-01-01|        uspto|     US|       United States|                       111111|                               0|                                  716|\n",
            "|   US-9410869-B2|Process for testi...|                   S & J Design Llc|Joseph D Brostmey...|   2011-03-29|   2015-11-06|      2016-08-09|2016-08-09|        uspto|     US|       United States|                          277|                            1683|                                  277|\n",
            "|   US-8893467-B2|Direct injection ...|               Indiana Universit...|Razi Nalim, Pejma...|   2006-06-15|   2013-04-23|      2014-11-25|2014-11-25|google patent|     US|       United States|                          581|                            2504|                                  581|\n",
            "|   US-9051909-B2|Multifuel storage...|               Mcalister Technol...|Roy Edward McAlister|   2008-01-07|   2012-10-30|      2015-06-09|2015-06-09|   Espace net|     US|       United States|                          952|                            1758|                                  952|\n",
            "+----------------+--------------------+-----------------------------------+--------------------+-------------+-------------+----------------+----------+-------------+-------+--------------------+-----------------------------+--------------------------------+-------------------------------------+\n",
            "only showing top 20 rows\n",
            "\n"
          ]
        }
      ]
    },
    {
      "cell_type": "code",
      "source": [
        "# Define the file path for saving the CSV file\n",
        "output_path = \"goldS2.csv\"\n",
        "\n",
        "# Save the DataFrame to a CSV file\n",
        "filled_df.write.csv(output_path, header=True, mode=\"overwrite\")\n"
      ],
      "metadata": {
        "id": "dQePHOn9EglT"
      },
      "execution_count": null,
      "outputs": []
    },
    {
      "cell_type": "code",
      "source": [
        "from google.colab import drive\n",
        "import shutil\n",
        "import pandas as pd\n",
        "import pyspark.sql.functions as F\n",
        "\n",
        "# Montez votre Google Drive\n",
        "drive.mount('/content/drive')\n",
        "\n",
        "# Convertir le DataFrame Spark en DataFrame Pandas\n",
        "\n",
        "pandas_df = filtered_df.toPandas()\n",
        "\n",
        "# Enregistrer le DataFrame Pandas au format Excel\n",
        "pandas_df.to_csv(\"/content/drive/MyDrive/goldS2.csv\", index=False)\n"
      ],
      "metadata": {
        "colab": {
          "base_uri": "https://localhost:8080/"
        },
        "id": "S5mGTNIsYyw5",
        "outputId": "d1ec7e17-c8ba-41d9-916b-e7a147d40021"
      },
      "execution_count": null,
      "outputs": [
        {
          "output_type": "stream",
          "name": "stdout",
          "text": [
            "Drive already mounted at /content/drive; to attempt to forcibly remount, call drive.mount(\"/content/drive\", force_remount=True).\n"
          ]
        }
      ]
    },
    {
      "cell_type": "code",
      "execution_count": null,
      "metadata": {
        "id": "tUtjYffAieNa"
      },
      "outputs": [],
      "source": [
        "# Step 5: Stop Spark session (optional, typically done at the end of the program)\n",
        "spark.stop()"
      ]
    },
    {
      "cell_type": "code",
      "source": [
        "from pyspark.sql import SparkSession\n",
        "from pyspark.sql.functions import col\n",
        "\n",
        "# Initialize Spark session\n",
        "spark = SparkSession.builder \\\n",
        "    .appName(\"Snowflake Schema\") \\\n",
        "    .getOrCreate()\n",
        "\n",
        "# Load your data into a DataFrame, specifying the UTF-8 encoding\n",
        "df = spark.read.csv(\"goldS2.csv\", header=True, inferSchema=True, encoding=\"utf-8\")\n",
        "\n",
        "# Define columns for fact table (numeric and foreign key columns)\n",
        "fact_columns = [\"id\", \"grant_to_filing_duration_days\", \"filing_to_priority_duration_days\", \"creation_to_publication_duration_days\"]\n",
        "\n",
        "# Extract fact table data\n",
        "fact_df = df.select(*[col(column) for column in fact_columns])\n",
        "\n",
        "# Define columns for dimension tables (qualitative values)\n",
        "dimension_columns = [\"title\", \"assignee\", \"inventor\", \"priority_date\", \"creation_date\", \"publication_date\", \"grant_date\", \"source_scrape\", \"country\", \"country_full\"]\n",
        "\n",
        "# Extract dimension table data\n",
        "dimension_df1 = df.select(*[col(column) for column in [\"id\", \"title\", \"assignee\", \"inventor\"]])\n",
        "dimension_df2 = df.select(*[col(column) for column in [\"id\", \"priority_date\", \"creation_date\", \"publication_date\", \"grant_date\"]])\n",
        "dimension_df3 = df.select(*[col(column) for column in [\"id\", \"source_scrape\", \"country\", \"country_full\"]])\n",
        "\n",
        "# Save fact table to CSV file, specifying the UTF-8 encoding\n",
        "fact_df.write.csv(\"/content/fact_table.csv\", header=True, mode=\"overwrite\", encoding=\"utf-8\")\n",
        "\n",
        "# Save dimension tables to CSV files, specifying the UTF-8 encoding\n",
        "dimension_df1.write.csv(\"/content/dimension_table1.csv\", header=True, mode=\"overwrite\", encoding=\"utf-8\")\n",
        "dimension_df2.write.csv(\"/content/dimension_table2.csv\", header=True, mode=\"overwrite\", encoding=\"utf-8\")\n",
        "dimension_df3.write.csv(\"/content/dimension_table3.csv\", header=True, mode=\"overwrite\", encoding=\"utf-8\")\n",
        "\n"
      ],
      "metadata": {
        "id": "tLTyOFQhlYm3"
      },
      "execution_count": null,
      "outputs": []
    },
    {
      "cell_type": "code",
      "source": [
        "fact_df.show()"
      ],
      "metadata": {
        "colab": {
          "base_uri": "https://localhost:8080/"
        },
        "id": "16skvL9T0QmX",
        "outputId": "ee235d42-cf0e-46ef-f8c8-48d879da66ca"
      },
      "execution_count": null,
      "outputs": [
        {
          "output_type": "stream",
          "name": "stdout",
          "text": [
            "+----------------+-----------------------------+--------------------------------+-------------------------------------+\n",
            "|              id|grant_to_filing_duration_days|filing_to_priority_duration_days|creation_to_publication_duration_days|\n",
            "+----------------+-----------------------------+--------------------------------+-------------------------------------+\n",
            "|   US-9869277-B2|                       1329.0|                          2297.0|                               1329.0|\n",
            "|US-2021215100-A1|                         NULL|                             0.0|                                548.0|\n",
            "|   US-7966830-B2|                       1825.0|                             0.0|                               1825.0|\n",
            "|    GB-2602936-A|                         NULL|                             0.0|                                 91.0|\n",
            "|   EP-2086834-B1|                       1339.0|                           362.0|                               1339.0|\n",
            "|  US-11572840-B2|                       1162.0|                             0.0|                               1162.0|\n",
            "|KR-20220002857-A|                         NULL|                           365.0|                                815.0|\n",
            "|US-2019293024-A1|                         NULL|                           367.0|                                213.0|\n",
            "|   US-9291124-B2|                        747.0|                          2635.0|                                747.0|\n",
            "|   RU-2462397-C2|                       1765.0|                           364.0|                               1765.0|\n",
            "|  US-11885260-B2|                        524.0|                           845.0|                                524.0|\n",
            "|   US-8434292-B2|                       1968.0|                           367.0|                               1968.0|\n",
            "|   US-7690192-B2|                       1050.0|                            35.0|                               1050.0|\n",
            "|   EP-2074324-B1|                       1962.0|                           362.0|                               1962.0|\n",
            "|    US-2655786-A|                       1128.0|                             0.0|                               1128.0|\n",
            "|  US-11542878-B2|                        442.0|                          1526.0|                                442.0|\n",
            "|US-2008283677-A1|                         NULL|                             0.0|                                716.0|\n",
            "|   US-9410869-B2|                        277.0|                          1683.0|                                277.0|\n",
            "|   US-8893467-B2|                        581.0|                          2504.0|                                581.0|\n",
            "|   US-9051909-B2|                        952.0|                          1758.0|                                952.0|\n",
            "+----------------+-----------------------------+--------------------------------+-------------------------------------+\n",
            "only showing top 20 rows\n",
            "\n"
          ]
        }
      ]
    },
    {
      "cell_type": "code",
      "source": [
        "dimension_df1.show()"
      ],
      "metadata": {
        "colab": {
          "base_uri": "https://localhost:8080/"
        },
        "id": "CTZ2sDx20afU",
        "outputId": "beddeb85-5eba-4c7f-c455-fed562e48a3b"
      },
      "execution_count": null,
      "outputs": [
        {
          "output_type": "stream",
          "name": "stdout",
          "text": [
            "+----------------+--------------------+-----------------------------------+--------------------+\n",
            "|              id|               title|                           assignee|            inventor|\n",
            "+----------------+--------------------+-----------------------------------+--------------------+\n",
            "|   US-9869277-B2|System, method an...|               Foret Plasma Labs...|          Todd Foret|\n",
            "|US-2021215100-A1|Blow down impinge...|               Rolls-Royce North...|Michael John Head...|\n",
            "|   US-7966830-B2|Fuel cell/combust...|                 The Boeing Company|    David L. Daggett|\n",
            "|    GB-2602936-A|  Propulsion system |                   Derwent Tech Ltd|Harold Speak Trev...|\n",
            "|   EP-2086834-B1|Propulsion device...|               Airbus Operations...|Andreas Westenberger|\n",
            "|  US-11572840-B2|Multi-mode combus...|               General Electric ...|Joel Meier Haynes...|\n",
            "|KR-20220002857-A|Aircraft prime mo...|쥐케이엔 에어로스페이스 서비시즈...|       사이먼 테일러|\n",
            "|US-2019293024-A1|Hydrogen-fueled s...|               Global Reach Aero...|Preston Henry Carter|\n",
            "|   US-9291124-B2|Combined cycle in...|               Aerojet Rocketdyn...|    Melvin J. Bulman|\n",
            "|   RU-2462397-C2|Aircraft power pl...|               Эйрбас Оперейшнз ...|Андреас ВЕСТЕНБЕР...|\n",
            "|  US-11885260-B2|Gas turbine engin...|                    Rtx Corporation|Amanda J. L. Bouc...|\n",
            "|   US-8434292-B2|Ceramic-encased h...|               State Of Franklin...|Martin P. Eason, ...|\n",
            "|   US-7690192-B2|Compact, high per...|               Pratt & Whitney R...|Robert J. Pederso...|\n",
            "|   EP-2074324-B1|Core burning for ...|               Aerojet-General C...|    Melvin J. Bulman|\n",
            "|    US-2655786-A|Method of operati...|               Phillips Petroleu...|       Donald E Carr|\n",
            "|  US-11542878-B2|Zero emission pro...|                 Lars Harald Heggen|  Lars Harald Heggen|\n",
            "|US-2008283677-A1|Single-stage hype...|               Pratt & Whitney R...|Robert J. Pederso...|\n",
            "|   US-9410869-B2|Process for testi...|                   S & J Design Llc|Joseph D Brostmey...|\n",
            "|   US-8893467-B2|Direct injection ...|               Indiana Universit...|Razi Nalim, Pejma...|\n",
            "|   US-9051909-B2|Multifuel storage...|               Mcalister Technol...|Roy Edward McAlister|\n",
            "+----------------+--------------------+-----------------------------------+--------------------+\n",
            "only showing top 20 rows\n",
            "\n"
          ]
        }
      ]
    },
    {
      "cell_type": "code",
      "source": [
        "dimension_df2.show()"
      ],
      "metadata": {
        "colab": {
          "base_uri": "https://localhost:8080/"
        },
        "id": "AjA_jr6u0iPX",
        "outputId": "455090fe-65e9-4a6a-cea6-04f79eeee77f"
      },
      "execution_count": null,
      "outputs": [
        {
          "output_type": "stream",
          "name": "stdout",
          "text": [
            "+----------------+-------------+-------------+----------------+----------+\n",
            "|              id|priority_date|creation_date|publication_date|grant_date|\n",
            "+----------------+-------------+-------------+----------------+----------+\n",
            "|   US-9869277-B2|   2008-02-12|   2014-05-28|      2018-01-16|2018-01-16|\n",
            "|US-2021215100-A1|   2020-01-14|   2020-01-14|      2021-07-15|      NULL|\n",
            "|   US-7966830-B2|   2006-06-29|   2006-06-29|      2011-06-28|2011-06-28|\n",
            "|    GB-2602936-A|   2022-04-20|   2022-04-20|      2022-07-20|      NULL|\n",
            "|   EP-2086834-B1|   2006-11-29|   2007-11-26|      2011-07-27|2011-07-27|\n",
            "|  US-11572840-B2|   2019-12-03|   2019-12-03|      2023-02-07|2023-02-07|\n",
            "|KR-20220002857-A|   2018-10-15|   2019-10-15|      2022-01-07|      NULL|\n",
            "|US-2019293024-A1|   2018-02-23|   2019-02-25|      2019-09-26|      NULL|\n",
            "|   US-9291124-B2|   2006-12-18|   2014-03-06|      2016-03-22|2016-03-22|\n",
            "|   RU-2462397-C2|   2006-11-29|   2007-11-28|      2012-09-27|2012-09-27|\n",
            "|  US-11885260-B2|   2020-05-01|   2022-08-24|      2024-01-30|2024-01-30|\n",
            "|   US-8434292-B2|   2006-12-15|   2007-12-17|      2013-05-07|2013-05-07|\n",
            "|   US-7690192-B2|   2007-04-17|   2007-05-22|      2010-04-06|2010-04-06|\n",
            "|   EP-2074324-B1|   2006-10-18|   2007-10-15|      2013-02-27|2013-02-27|\n",
            "|    US-2655786-A|   1950-09-18|   1950-09-18|      1953-10-20|1953-10-20|\n",
            "|  US-11542878-B2|   2017-08-14|   2021-10-18|      2023-01-03|2023-01-03|\n",
            "|US-2008283677-A1|   2006-12-05|   2006-12-05|      2008-11-20|      NULL|\n",
            "|   US-9410869-B2|   2011-03-29|   2015-11-06|      2016-08-09|2016-08-09|\n",
            "|   US-8893467-B2|   2006-06-15|   2013-04-23|      2014-11-25|2014-11-25|\n",
            "|   US-9051909-B2|   2008-01-07|   2012-10-30|      2015-06-09|2015-06-09|\n",
            "+----------------+-------------+-------------+----------------+----------+\n",
            "only showing top 20 rows\n",
            "\n"
          ]
        }
      ]
    },
    {
      "cell_type": "code",
      "source": [
        "dimension_df3.show()"
      ],
      "metadata": {
        "colab": {
          "base_uri": "https://localhost:8080/"
        },
        "id": "6jEBFCCS0wmk",
        "outputId": "4b88d691-fb82-40f5-9c88-d3ed44a1fa3d"
      },
      "execution_count": null,
      "outputs": [
        {
          "output_type": "stream",
          "name": "stdout",
          "text": [
            "+----------------+-------------+-------+--------------------+\n",
            "|              id|source_scrape|country|        country_full|\n",
            "+----------------+-------------+-------+--------------------+\n",
            "|   US-9869277-B2|google patent|     US|       United States|\n",
            "|US-2021215100-A1|   Espace net|     US|       United States|\n",
            "|   US-7966830-B2|        uspto|     US|       United States|\n",
            "|    GB-2602936-A|google patent|     GB|      United Kingdom|\n",
            "|   EP-2086834-B1|   Espace net|     EP|Europe (European ...|\n",
            "|  US-11572840-B2|         wipo|     US|       United States|\n",
            "|KR-20220002857-A|google patent|     KR|         South Korea|\n",
            "|US-2019293024-A1|   Espace net|     US|       United States|\n",
            "|   US-9291124-B2|         wipo|     US|       United States|\n",
            "|   RU-2462397-C2|google patent|     RU|              Russia|\n",
            "|  US-11885260-B2|google patent|     US|       United States|\n",
            "|   US-8434292-B2|        uspto|     US|       United States|\n",
            "|   US-7690192-B2|         wipo|     US|       United States|\n",
            "|   EP-2074324-B1|google patent|     EP|Europe (European ...|\n",
            "|    US-2655786-A|   Espace net|     US|       United States|\n",
            "|  US-11542878-B2|   Espace net|     US|       United States|\n",
            "|US-2008283677-A1|google patent|     US|       United States|\n",
            "|   US-9410869-B2|google patent|     US|       United States|\n",
            "|   US-8893467-B2|google patent|     US|       United States|\n",
            "|   US-9051909-B2|   Espace net|     US|       United States|\n",
            "+----------------+-------------+-------+--------------------+\n",
            "only showing top 20 rows\n",
            "\n"
          ]
        }
      ]
    },
    {
      "cell_type": "code",
      "source": [
        "from google.colab import drive\n",
        "import shutil\n",
        "\n",
        "# Montez votre Google Drive\n",
        "drive.mount('/content/drive')\n",
        "\n",
        "# Spécifiez le dossier de destination dans votre Google Drive\n",
        "destination_folder = \"/content/drive/My Drive/analysis\"\n",
        "\n",
        "# Déplacez les fichiers CSV vers le dossier de destination dans votre Google Drive\n",
        "shutil.move(\"/content/fact_table.csv\", destination_folder)\n",
        "shutil.move(\"/content/dimension_table1.csv\", destination_folder)\n",
        "shutil.move(\"/content/dimension_table2.csv\", destination_folder)\n",
        "shutil.move(\"/content/dimension_table3.csv\", destination_folder)\n"
      ],
      "metadata": {
        "colab": {
          "base_uri": "https://localhost:8080/",
          "height": 73
        },
        "id": "pTEUM0ud065Z",
        "outputId": "56f2d1fd-af44-44d2-e592-194a911ca2b4"
      },
      "execution_count": null,
      "outputs": [
        {
          "output_type": "stream",
          "name": "stdout",
          "text": [
            "Drive already mounted at /content/drive; to attempt to forcibly remount, call drive.mount(\"/content/drive\", force_remount=True).\n"
          ]
        },
        {
          "output_type": "execute_result",
          "data": {
            "text/plain": [
              "'/content/drive/My Drive/analysis/dimension_table3.csv'"
            ],
            "application/vnd.google.colaboratory.intrinsic+json": {
              "type": "string"
            }
          },
          "metadata": {},
          "execution_count": 62
        }
      ]
    },
    {
      "cell_type": "code",
      "source": [
        "from google.colab import drive\n",
        "import shutil\n",
        "\n",
        "# Mount Google Drive\n",
        "drive.mount('/content/drive')\n",
        "\n",
        "# Define the paths to your CSV files\n",
        "csv_files = [\"/content/fact_table.csv\", \"/content/dimension_table1.csv\", \"/content/dimension_table2.csv\", \"/content/dimension_table3.csv\"]\n",
        "\n",
        "# Specify the destination folder in your Google Drive\n",
        "destination_folder = \"/content/drive/My Drive/patents/\"\n",
        "\n",
        "# Create the destination folder if it doesn't exist\n",
        "if not os.path.exists(destination_folder):\n",
        "    os.makedirs(destination_folder)\n",
        "\n",
        "# Move CSV files to the destination folder\n",
        "for file_path in csv_files:\n",
        "    shutil.move(file_path, destination_folder)\n",
        "\n",
        "print(\"CSV files moved to Google Drive successfully.\")\n",
        "\n"
      ],
      "metadata": {
        "colab": {
          "base_uri": "https://localhost:8080/"
        },
        "id": "AEFI-52ajkiN",
        "outputId": "aedecc67-8678-41b0-ad5a-57780df163a0"
      },
      "execution_count": null,
      "outputs": [
        {
          "output_type": "stream",
          "name": "stdout",
          "text": [
            "Drive already mounted at /content/drive; to attempt to forcibly remount, call drive.mount(\"/content/drive\", force_remount=True).\n",
            "CSV files moved to Google Drive successfully.\n"
          ]
        }
      ]
    },
    {
      "cell_type": "code",
      "source": [],
      "metadata": {
        "id": "_TMwdciKkG3m"
      },
      "execution_count": null,
      "outputs": []
    },
    {
      "cell_type": "code",
      "source": [],
      "metadata": {
        "id": "ILQCgEh3datP"
      },
      "execution_count": null,
      "outputs": []
    },
    {
      "cell_type": "code",
      "source": [
        "!pip install pyspark\n",
        "\n",
        "from pyspark.sql import SparkSession\n",
        "from pyspark.sql.functions import udf\n",
        "from pyspark.sql.types import StringType\n",
        "\n",
        "# Initialize Spark session\n",
        "spark = SparkSession.builder \\\n",
        "    .appName(\"Patent NLP\") \\\n",
        "    .getOrCreate()\n"
      ],
      "metadata": {
        "colab": {
          "base_uri": "https://localhost:8080/"
        },
        "id": "uRllRrZPdaw8",
        "outputId": "5209f752-55b6-4a1c-d4da-e1554aec7a5a"
      },
      "execution_count": null,
      "outputs": [
        {
          "output_type": "stream",
          "name": "stdout",
          "text": [
            "Collecting pyspark\n",
            "  Downloading pyspark-3.5.1.tar.gz (317.0 MB)\n",
            "\u001b[2K     \u001b[90m━━━━━━━━━━━━━━━━━━━━━━━━━━━━━━━━━━━━━━━━\u001b[0m \u001b[32m317.0/317.0 MB\u001b[0m \u001b[31m2.0 MB/s\u001b[0m eta \u001b[36m0:00:00\u001b[0m\n",
            "\u001b[?25h  Preparing metadata (setup.py) ... \u001b[?25l\u001b[?25hdone\n",
            "Requirement already satisfied: py4j==0.10.9.7 in /usr/local/lib/python3.10/dist-packages (from pyspark) (0.10.9.7)\n",
            "Building wheels for collected packages: pyspark\n",
            "  Building wheel for pyspark (setup.py) ... \u001b[?25l\u001b[?25hdone\n",
            "  Created wheel for pyspark: filename=pyspark-3.5.1-py2.py3-none-any.whl size=317488491 sha256=f854173a521e284a11ae95f3380b93b59f0d40e9bae4f4bcf57ba049d4e03945\n",
            "  Stored in directory: /root/.cache/pip/wheels/80/1d/60/2c256ed38dddce2fdd93be545214a63e02fbd8d74fb0b7f3a6\n",
            "Successfully built pyspark\n",
            "Installing collected packages: pyspark\n",
            "Successfully installed pyspark-3.5.1\n"
          ]
        }
      ]
    },
    {
      "cell_type": "code",
      "source": [
        "spark = SparkSession.builder \\\n",
        "    .appName(\"Patent NLP\") \\\n",
        "    .getOrCreate()\n",
        "\n",
        "# Step 2: Load Data into Spark\n",
        "file_path = \"updated_data(1).xlsx\"\n",
        "\n",
        "# Ensure you have the necessary dependencies for reading Excel files\n",
        "# If needed, you can install the package using:\n",
        "# !pip install spark-excel\n",
        "\n",
        "df = spark.read.format(\"com.crealytics.spark.excel\") \\\n",
        "    .option(\"header\", \"true\") \\\n",
        "    .option(\"inferSchema\", \"true\") \\\n",
        "    .load(file_path)\n"
      ],
      "metadata": {
        "colab": {
          "base_uri": "https://localhost:8080/",
          "height": 808
        },
        "id": "AbHlfc07dhxw",
        "outputId": "d0bf9442-c4b5-4d58-e19f-24ae1f8ad7da"
      },
      "execution_count": null,
      "outputs": [
        {
          "output_type": "error",
          "ename": "Py4JJavaError",
          "evalue": "An error occurred while calling o36.load.\n: org.apache.spark.SparkClassNotFoundException: [DATA_SOURCE_NOT_FOUND] Failed to find the data source: com.crealytics.spark.excel. Please find packages at `https://spark.apache.org/third-party-projects.html`.\n\tat org.apache.spark.sql.errors.QueryExecutionErrors$.dataSourceNotFoundError(QueryExecutionErrors.scala:724)\n\tat org.apache.spark.sql.execution.datasources.DataSource$.lookupDataSource(DataSource.scala:647)\n\tat org.apache.spark.sql.execution.datasources.DataSource$.lookupDataSourceV2(DataSource.scala:697)\n\tat org.apache.spark.sql.DataFrameReader.load(DataFrameReader.scala:208)\n\tat org.apache.spark.sql.DataFrameReader.load(DataFrameReader.scala:186)\n\tat java.base/jdk.internal.reflect.NativeMethodAccessorImpl.invoke0(Native Method)\n\tat java.base/jdk.internal.reflect.NativeMethodAccessorImpl.invoke(NativeMethodAccessorImpl.java:62)\n\tat java.base/jdk.internal.reflect.DelegatingMethodAccessorImpl.invoke(DelegatingMethodAccessorImpl.java:43)\n\tat java.base/java.lang.reflect.Method.invoke(Method.java:566)\n\tat py4j.reflection.MethodInvoker.invoke(MethodInvoker.java:244)\n\tat py4j.reflection.ReflectionEngine.invoke(ReflectionEngine.java:374)\n\tat py4j.Gateway.invoke(Gateway.java:282)\n\tat py4j.commands.AbstractCommand.invokeMethod(AbstractCommand.java:132)\n\tat py4j.commands.CallCommand.execute(CallCommand.java:79)\n\tat py4j.ClientServerConnection.waitForCommands(ClientServerConnection.java:182)\n\tat py4j.ClientServerConnection.run(ClientServerConnection.java:106)\n\tat java.base/java.lang.Thread.run(Thread.java:829)\nCaused by: java.lang.ClassNotFoundException: com.crealytics.spark.excel.DefaultSource\n\tat java.base/java.net.URLClassLoader.findClass(URLClassLoader.java:476)\n\tat java.base/java.lang.ClassLoader.loadClass(ClassLoader.java:594)\n\tat java.base/java.lang.ClassLoader.loadClass(ClassLoader.java:527)\n\tat org.apache.spark.sql.execution.datasources.DataSource$.$anonfun$lookupDataSource$5(DataSource.scala:633)\n\tat scala.util.Try$.apply(Try.scala:213)\n\tat org.apache.spark.sql.execution.datasources.DataSource$.$anonfun$lookupDataSource$4(DataSource.scala:633)\n\tat scala.util.Failure.orElse(Try.scala:224)\n\tat org.apache.spark.sql.execution.datasources.DataSource$.lookupDataSource(DataSource.scala:633)\n\t... 15 more\n",
          "traceback": [
            "\u001b[0;31m---------------------------------------------------------------------------\u001b[0m",
            "\u001b[0;31mPy4JJavaError\u001b[0m                             Traceback (most recent call last)",
            "\u001b[0;32m<ipython-input-3-7f6d7a8edb01>\u001b[0m in \u001b[0;36m<cell line: 12>\u001b[0;34m()\u001b[0m\n\u001b[1;32m     13\u001b[0m     \u001b[0;34m.\u001b[0m\u001b[0moption\u001b[0m\u001b[0;34m(\u001b[0m\u001b[0;34m\"header\"\u001b[0m\u001b[0;34m,\u001b[0m \u001b[0;34m\"true\"\u001b[0m\u001b[0;34m)\u001b[0m\u001b[0;31m \u001b[0m\u001b[0;31m\\\u001b[0m\u001b[0;34m\u001b[0m\u001b[0;34m\u001b[0m\u001b[0m\n\u001b[1;32m     14\u001b[0m     \u001b[0;34m.\u001b[0m\u001b[0moption\u001b[0m\u001b[0;34m(\u001b[0m\u001b[0;34m\"inferSchema\"\u001b[0m\u001b[0;34m,\u001b[0m \u001b[0;34m\"true\"\u001b[0m\u001b[0;34m)\u001b[0m\u001b[0;31m \u001b[0m\u001b[0;31m\\\u001b[0m\u001b[0;34m\u001b[0m\u001b[0;34m\u001b[0m\u001b[0m\n\u001b[0;32m---> 15\u001b[0;31m     \u001b[0;34m.\u001b[0m\u001b[0mload\u001b[0m\u001b[0;34m(\u001b[0m\u001b[0mfile_path\u001b[0m\u001b[0;34m)\u001b[0m\u001b[0;34m\u001b[0m\u001b[0;34m\u001b[0m\u001b[0m\n\u001b[0m",
            "\u001b[0;32m/usr/local/lib/python3.10/dist-packages/pyspark/sql/readwriter.py\u001b[0m in \u001b[0;36mload\u001b[0;34m(self, path, format, schema, **options)\u001b[0m\n\u001b[1;32m    305\u001b[0m         \u001b[0mself\u001b[0m\u001b[0;34m.\u001b[0m\u001b[0moptions\u001b[0m\u001b[0;34m(\u001b[0m\u001b[0;34m**\u001b[0m\u001b[0moptions\u001b[0m\u001b[0;34m)\u001b[0m\u001b[0;34m\u001b[0m\u001b[0;34m\u001b[0m\u001b[0m\n\u001b[1;32m    306\u001b[0m         \u001b[0;32mif\u001b[0m \u001b[0misinstance\u001b[0m\u001b[0;34m(\u001b[0m\u001b[0mpath\u001b[0m\u001b[0;34m,\u001b[0m \u001b[0mstr\u001b[0m\u001b[0;34m)\u001b[0m\u001b[0;34m:\u001b[0m\u001b[0;34m\u001b[0m\u001b[0;34m\u001b[0m\u001b[0m\n\u001b[0;32m--> 307\u001b[0;31m             \u001b[0;32mreturn\u001b[0m \u001b[0mself\u001b[0m\u001b[0;34m.\u001b[0m\u001b[0m_df\u001b[0m\u001b[0;34m(\u001b[0m\u001b[0mself\u001b[0m\u001b[0;34m.\u001b[0m\u001b[0m_jreader\u001b[0m\u001b[0;34m.\u001b[0m\u001b[0mload\u001b[0m\u001b[0;34m(\u001b[0m\u001b[0mpath\u001b[0m\u001b[0;34m)\u001b[0m\u001b[0;34m)\u001b[0m\u001b[0;34m\u001b[0m\u001b[0;34m\u001b[0m\u001b[0m\n\u001b[0m\u001b[1;32m    308\u001b[0m         \u001b[0;32melif\u001b[0m \u001b[0mpath\u001b[0m \u001b[0;32mis\u001b[0m \u001b[0;32mnot\u001b[0m \u001b[0;32mNone\u001b[0m\u001b[0;34m:\u001b[0m\u001b[0;34m\u001b[0m\u001b[0;34m\u001b[0m\u001b[0m\n\u001b[1;32m    309\u001b[0m             \u001b[0;32mif\u001b[0m \u001b[0mtype\u001b[0m\u001b[0;34m(\u001b[0m\u001b[0mpath\u001b[0m\u001b[0;34m)\u001b[0m \u001b[0;34m!=\u001b[0m \u001b[0mlist\u001b[0m\u001b[0;34m:\u001b[0m\u001b[0;34m\u001b[0m\u001b[0;34m\u001b[0m\u001b[0m\n",
            "\u001b[0;32m/usr/local/lib/python3.10/dist-packages/py4j/java_gateway.py\u001b[0m in \u001b[0;36m__call__\u001b[0;34m(self, *args)\u001b[0m\n\u001b[1;32m   1320\u001b[0m \u001b[0;34m\u001b[0m\u001b[0m\n\u001b[1;32m   1321\u001b[0m         \u001b[0manswer\u001b[0m \u001b[0;34m=\u001b[0m \u001b[0mself\u001b[0m\u001b[0;34m.\u001b[0m\u001b[0mgateway_client\u001b[0m\u001b[0;34m.\u001b[0m\u001b[0msend_command\u001b[0m\u001b[0;34m(\u001b[0m\u001b[0mcommand\u001b[0m\u001b[0;34m)\u001b[0m\u001b[0;34m\u001b[0m\u001b[0;34m\u001b[0m\u001b[0m\n\u001b[0;32m-> 1322\u001b[0;31m         return_value = get_return_value(\n\u001b[0m\u001b[1;32m   1323\u001b[0m             answer, self.gateway_client, self.target_id, self.name)\n\u001b[1;32m   1324\u001b[0m \u001b[0;34m\u001b[0m\u001b[0m\n",
            "\u001b[0;32m/usr/local/lib/python3.10/dist-packages/pyspark/errors/exceptions/captured.py\u001b[0m in \u001b[0;36mdeco\u001b[0;34m(*a, **kw)\u001b[0m\n\u001b[1;32m    177\u001b[0m     \u001b[0;32mdef\u001b[0m \u001b[0mdeco\u001b[0m\u001b[0;34m(\u001b[0m\u001b[0;34m*\u001b[0m\u001b[0ma\u001b[0m\u001b[0;34m:\u001b[0m \u001b[0mAny\u001b[0m\u001b[0;34m,\u001b[0m \u001b[0;34m**\u001b[0m\u001b[0mkw\u001b[0m\u001b[0;34m:\u001b[0m \u001b[0mAny\u001b[0m\u001b[0;34m)\u001b[0m \u001b[0;34m->\u001b[0m \u001b[0mAny\u001b[0m\u001b[0;34m:\u001b[0m\u001b[0;34m\u001b[0m\u001b[0;34m\u001b[0m\u001b[0m\n\u001b[1;32m    178\u001b[0m         \u001b[0;32mtry\u001b[0m\u001b[0;34m:\u001b[0m\u001b[0;34m\u001b[0m\u001b[0;34m\u001b[0m\u001b[0m\n\u001b[0;32m--> 179\u001b[0;31m             \u001b[0;32mreturn\u001b[0m \u001b[0mf\u001b[0m\u001b[0;34m(\u001b[0m\u001b[0;34m*\u001b[0m\u001b[0ma\u001b[0m\u001b[0;34m,\u001b[0m \u001b[0;34m**\u001b[0m\u001b[0mkw\u001b[0m\u001b[0;34m)\u001b[0m\u001b[0;34m\u001b[0m\u001b[0;34m\u001b[0m\u001b[0m\n\u001b[0m\u001b[1;32m    180\u001b[0m         \u001b[0;32mexcept\u001b[0m \u001b[0mPy4JJavaError\u001b[0m \u001b[0;32mas\u001b[0m \u001b[0me\u001b[0m\u001b[0;34m:\u001b[0m\u001b[0;34m\u001b[0m\u001b[0;34m\u001b[0m\u001b[0m\n\u001b[1;32m    181\u001b[0m             \u001b[0mconverted\u001b[0m \u001b[0;34m=\u001b[0m \u001b[0mconvert_exception\u001b[0m\u001b[0;34m(\u001b[0m\u001b[0me\u001b[0m\u001b[0;34m.\u001b[0m\u001b[0mjava_exception\u001b[0m\u001b[0;34m)\u001b[0m\u001b[0;34m\u001b[0m\u001b[0;34m\u001b[0m\u001b[0m\n",
            "\u001b[0;32m/usr/local/lib/python3.10/dist-packages/py4j/protocol.py\u001b[0m in \u001b[0;36mget_return_value\u001b[0;34m(answer, gateway_client, target_id, name)\u001b[0m\n\u001b[1;32m    324\u001b[0m             \u001b[0mvalue\u001b[0m \u001b[0;34m=\u001b[0m \u001b[0mOUTPUT_CONVERTER\u001b[0m\u001b[0;34m[\u001b[0m\u001b[0mtype\u001b[0m\u001b[0;34m]\u001b[0m\u001b[0;34m(\u001b[0m\u001b[0manswer\u001b[0m\u001b[0;34m[\u001b[0m\u001b[0;36m2\u001b[0m\u001b[0;34m:\u001b[0m\u001b[0;34m]\u001b[0m\u001b[0;34m,\u001b[0m \u001b[0mgateway_client\u001b[0m\u001b[0;34m)\u001b[0m\u001b[0;34m\u001b[0m\u001b[0;34m\u001b[0m\u001b[0m\n\u001b[1;32m    325\u001b[0m             \u001b[0;32mif\u001b[0m \u001b[0manswer\u001b[0m\u001b[0;34m[\u001b[0m\u001b[0;36m1\u001b[0m\u001b[0;34m]\u001b[0m \u001b[0;34m==\u001b[0m \u001b[0mREFERENCE_TYPE\u001b[0m\u001b[0;34m:\u001b[0m\u001b[0;34m\u001b[0m\u001b[0;34m\u001b[0m\u001b[0m\n\u001b[0;32m--> 326\u001b[0;31m                 raise Py4JJavaError(\n\u001b[0m\u001b[1;32m    327\u001b[0m                     \u001b[0;34m\"An error occurred while calling {0}{1}{2}.\\n\"\u001b[0m\u001b[0;34m.\u001b[0m\u001b[0;34m\u001b[0m\u001b[0;34m\u001b[0m\u001b[0m\n\u001b[1;32m    328\u001b[0m                     format(target_id, \".\", name), value)\n",
            "\u001b[0;31mPy4JJavaError\u001b[0m: An error occurred while calling o36.load.\n: org.apache.spark.SparkClassNotFoundException: [DATA_SOURCE_NOT_FOUND] Failed to find the data source: com.crealytics.spark.excel. Please find packages at `https://spark.apache.org/third-party-projects.html`.\n\tat org.apache.spark.sql.errors.QueryExecutionErrors$.dataSourceNotFoundError(QueryExecutionErrors.scala:724)\n\tat org.apache.spark.sql.execution.datasources.DataSource$.lookupDataSource(DataSource.scala:647)\n\tat org.apache.spark.sql.execution.datasources.DataSource$.lookupDataSourceV2(DataSource.scala:697)\n\tat org.apache.spark.sql.DataFrameReader.load(DataFrameReader.scala:208)\n\tat org.apache.spark.sql.DataFrameReader.load(DataFrameReader.scala:186)\n\tat java.base/jdk.internal.reflect.NativeMethodAccessorImpl.invoke0(Native Method)\n\tat java.base/jdk.internal.reflect.NativeMethodAccessorImpl.invoke(NativeMethodAccessorImpl.java:62)\n\tat java.base/jdk.internal.reflect.DelegatingMethodAccessorImpl.invoke(DelegatingMethodAccessorImpl.java:43)\n\tat java.base/java.lang.reflect.Method.invoke(Method.java:566)\n\tat py4j.reflection.MethodInvoker.invoke(MethodInvoker.java:244)\n\tat py4j.reflection.ReflectionEngine.invoke(ReflectionEngine.java:374)\n\tat py4j.Gateway.invoke(Gateway.java:282)\n\tat py4j.commands.AbstractCommand.invokeMethod(AbstractCommand.java:132)\n\tat py4j.commands.CallCommand.execute(CallCommand.java:79)\n\tat py4j.ClientServerConnection.waitForCommands(ClientServerConnection.java:182)\n\tat py4j.ClientServerConnection.run(ClientServerConnection.java:106)\n\tat java.base/java.lang.Thread.run(Thread.java:829)\nCaused by: java.lang.ClassNotFoundException: com.crealytics.spark.excel.DefaultSource\n\tat java.base/java.net.URLClassLoader.findClass(URLClassLoader.java:476)\n\tat java.base/java.lang.ClassLoader.loadClass(ClassLoader.java:594)\n\tat java.base/java.lang.ClassLoader.loadClass(ClassLoader.java:527)\n\tat org.apache.spark.sql.execution.datasources.DataSource$.$anonfun$lookupDataSource$5(DataSource.scala:633)\n\tat scala.util.Try$.apply(Try.scala:213)\n\tat org.apache.spark.sql.execution.datasources.DataSource$.$anonfun$lookupDataSource$4(DataSource.scala:633)\n\tat scala.util.Failure.orElse(Try.scala:224)\n\tat org.apache.spark.sql.execution.datasources.DataSource$.lookupDataSource(DataSource.scala:633)\n\t... 15 more\n"
          ]
        }
      ]
    },
    {
      "cell_type": "code",
      "source": [
        "from pyspark.sql import SparkSession\n",
        "from pyspark.sql.functions import udf, col\n",
        "from pyspark.sql.types import StringType\n",
        "import random\n",
        "\n",
        "# Initialize Spark session\n",
        "spark = SparkSession.builder \\\n",
        "    .appName(\"Patent Technology Sector Assignment\") \\\n",
        "    .getOrCreate()\n",
        "\n",
        "# Step 1: Load Data into Spark\n",
        "file_path = \"/mnt/data/updated_data(1).xlsx\"\n",
        "\n",
        "df = spark.read.format(\"com.crealytics.spark.excel\") \\\n",
        "    .option(\"header\", \"true\") \\\n",
        "    .option(\"inferSchema\", \"true\") \\\n",
        "    .load(file_path)\n",
        "\n",
        "# Step 2: Define a list of possible technology sectors\n",
        "technology_sectors = [\"Software\", \"Biotechnology\", \"Electronics\", \"Healthcare\", \"Automotive\", \"Telecom\"]\n",
        "\n",
        "# Step 3: Create a UDF to assign random technology sectors\n",
        "def random_technology_sector():\n",
        "    return random.choice(technology_sectors)\n",
        "\n",
        "random_technology_sector_udf = udf(random_technology_sector, StringType())\n",
        "\n",
        "# Step 4: Add a new column with random technology sectors\n",
        "df = df.withColumn(\"technology_sector\", random_technology_sector_udf())\n",
        "\n",
        "# Step 5: Select only the patent ID and the new technology sector columns\n",
        "df_result = df.select(col(\"id\"), col(\"technology_sector\"))\n",
        "\n",
        "# Step 6: Save the resulting DataFrame as a new CSV file\n",
        "output_path = \"/mnt/data/patents_with_random_technology_sector.csv\"\n",
        "df_result.write.csv(output_path, header=True)\n",
        "\n",
        "# Stop the Spark session\n",
        "spark.stop()\n"
      ],
      "metadata": {
        "colab": {
          "base_uri": "https://localhost:8080/",
          "height": 842
        },
        "id": "6k73DhZSfNGF",
        "outputId": "89651c7d-25b0-4bd3-bb5e-b8ddec90fef3"
      },
      "execution_count": null,
      "outputs": [
        {
          "output_type": "error",
          "ename": "Py4JJavaError",
          "evalue": "An error occurred while calling o50.load.\n: org.apache.spark.SparkClassNotFoundException: [DATA_SOURCE_NOT_FOUND] Failed to find the data source: com.crealytics.spark.excel. Please find packages at `https://spark.apache.org/third-party-projects.html`.\n\tat org.apache.spark.sql.errors.QueryExecutionErrors$.dataSourceNotFoundError(QueryExecutionErrors.scala:724)\n\tat org.apache.spark.sql.execution.datasources.DataSource$.lookupDataSource(DataSource.scala:647)\n\tat org.apache.spark.sql.execution.datasources.DataSource$.lookupDataSourceV2(DataSource.scala:697)\n\tat org.apache.spark.sql.DataFrameReader.load(DataFrameReader.scala:208)\n\tat org.apache.spark.sql.DataFrameReader.load(DataFrameReader.scala:186)\n\tat java.base/jdk.internal.reflect.NativeMethodAccessorImpl.invoke0(Native Method)\n\tat java.base/jdk.internal.reflect.NativeMethodAccessorImpl.invoke(NativeMethodAccessorImpl.java:62)\n\tat java.base/jdk.internal.reflect.DelegatingMethodAccessorImpl.invoke(DelegatingMethodAccessorImpl.java:43)\n\tat java.base/java.lang.reflect.Method.invoke(Method.java:566)\n\tat py4j.reflection.MethodInvoker.invoke(MethodInvoker.java:244)\n\tat py4j.reflection.ReflectionEngine.invoke(ReflectionEngine.java:374)\n\tat py4j.Gateway.invoke(Gateway.java:282)\n\tat py4j.commands.AbstractCommand.invokeMethod(AbstractCommand.java:132)\n\tat py4j.commands.CallCommand.execute(CallCommand.java:79)\n\tat py4j.ClientServerConnection.waitForCommands(ClientServerConnection.java:182)\n\tat py4j.ClientServerConnection.run(ClientServerConnection.java:106)\n\tat java.base/java.lang.Thread.run(Thread.java:829)\nCaused by: java.lang.ClassNotFoundException: com.crealytics.spark.excel.DefaultSource\n\tat java.base/java.net.URLClassLoader.findClass(URLClassLoader.java:476)\n\tat java.base/java.lang.ClassLoader.loadClass(ClassLoader.java:594)\n\tat java.base/java.lang.ClassLoader.loadClass(ClassLoader.java:527)\n\tat org.apache.spark.sql.execution.datasources.DataSource$.$anonfun$lookupDataSource$5(DataSource.scala:633)\n\tat scala.util.Try$.apply(Try.scala:213)\n\tat org.apache.spark.sql.execution.datasources.DataSource$.$anonfun$lookupDataSource$4(DataSource.scala:633)\n\tat scala.util.Failure.orElse(Try.scala:224)\n\tat org.apache.spark.sql.execution.datasources.DataSource$.lookupDataSource(DataSource.scala:633)\n\t... 15 more\n",
          "traceback": [
            "\u001b[0;31m---------------------------------------------------------------------------\u001b[0m",
            "\u001b[0;31mPy4JJavaError\u001b[0m                             Traceback (most recent call last)",
            "\u001b[0;32m<ipython-input-7-7a8703b4f037>\u001b[0m in \u001b[0;36m<cell line: 14>\u001b[0;34m()\u001b[0m\n\u001b[1;32m     15\u001b[0m     \u001b[0;34m.\u001b[0m\u001b[0moption\u001b[0m\u001b[0;34m(\u001b[0m\u001b[0;34m\"header\"\u001b[0m\u001b[0;34m,\u001b[0m \u001b[0;34m\"true\"\u001b[0m\u001b[0;34m)\u001b[0m\u001b[0;31m \u001b[0m\u001b[0;31m\\\u001b[0m\u001b[0;34m\u001b[0m\u001b[0;34m\u001b[0m\u001b[0m\n\u001b[1;32m     16\u001b[0m     \u001b[0;34m.\u001b[0m\u001b[0moption\u001b[0m\u001b[0;34m(\u001b[0m\u001b[0;34m\"inferSchema\"\u001b[0m\u001b[0;34m,\u001b[0m \u001b[0;34m\"true\"\u001b[0m\u001b[0;34m)\u001b[0m\u001b[0;31m \u001b[0m\u001b[0;31m\\\u001b[0m\u001b[0;34m\u001b[0m\u001b[0;34m\u001b[0m\u001b[0m\n\u001b[0;32m---> 17\u001b[0;31m     \u001b[0;34m.\u001b[0m\u001b[0mload\u001b[0m\u001b[0;34m(\u001b[0m\u001b[0mfile_path\u001b[0m\u001b[0;34m)\u001b[0m\u001b[0;34m\u001b[0m\u001b[0;34m\u001b[0m\u001b[0m\n\u001b[0m\u001b[1;32m     18\u001b[0m \u001b[0;34m\u001b[0m\u001b[0m\n\u001b[1;32m     19\u001b[0m \u001b[0;31m# Step 2: Define a list of possible technology sectors\u001b[0m\u001b[0;34m\u001b[0m\u001b[0;34m\u001b[0m\u001b[0m\n",
            "\u001b[0;32m/usr/local/lib/python3.10/dist-packages/pyspark/sql/readwriter.py\u001b[0m in \u001b[0;36mload\u001b[0;34m(self, path, format, schema, **options)\u001b[0m\n\u001b[1;32m    305\u001b[0m         \u001b[0mself\u001b[0m\u001b[0;34m.\u001b[0m\u001b[0moptions\u001b[0m\u001b[0;34m(\u001b[0m\u001b[0;34m**\u001b[0m\u001b[0moptions\u001b[0m\u001b[0;34m)\u001b[0m\u001b[0;34m\u001b[0m\u001b[0;34m\u001b[0m\u001b[0m\n\u001b[1;32m    306\u001b[0m         \u001b[0;32mif\u001b[0m \u001b[0misinstance\u001b[0m\u001b[0;34m(\u001b[0m\u001b[0mpath\u001b[0m\u001b[0;34m,\u001b[0m \u001b[0mstr\u001b[0m\u001b[0;34m)\u001b[0m\u001b[0;34m:\u001b[0m\u001b[0;34m\u001b[0m\u001b[0;34m\u001b[0m\u001b[0m\n\u001b[0;32m--> 307\u001b[0;31m             \u001b[0;32mreturn\u001b[0m \u001b[0mself\u001b[0m\u001b[0;34m.\u001b[0m\u001b[0m_df\u001b[0m\u001b[0;34m(\u001b[0m\u001b[0mself\u001b[0m\u001b[0;34m.\u001b[0m\u001b[0m_jreader\u001b[0m\u001b[0;34m.\u001b[0m\u001b[0mload\u001b[0m\u001b[0;34m(\u001b[0m\u001b[0mpath\u001b[0m\u001b[0;34m)\u001b[0m\u001b[0;34m)\u001b[0m\u001b[0;34m\u001b[0m\u001b[0;34m\u001b[0m\u001b[0m\n\u001b[0m\u001b[1;32m    308\u001b[0m         \u001b[0;32melif\u001b[0m \u001b[0mpath\u001b[0m \u001b[0;32mis\u001b[0m \u001b[0;32mnot\u001b[0m \u001b[0;32mNone\u001b[0m\u001b[0;34m:\u001b[0m\u001b[0;34m\u001b[0m\u001b[0;34m\u001b[0m\u001b[0m\n\u001b[1;32m    309\u001b[0m             \u001b[0;32mif\u001b[0m \u001b[0mtype\u001b[0m\u001b[0;34m(\u001b[0m\u001b[0mpath\u001b[0m\u001b[0;34m)\u001b[0m \u001b[0;34m!=\u001b[0m \u001b[0mlist\u001b[0m\u001b[0;34m:\u001b[0m\u001b[0;34m\u001b[0m\u001b[0;34m\u001b[0m\u001b[0m\n",
            "\u001b[0;32m/usr/local/lib/python3.10/dist-packages/py4j/java_gateway.py\u001b[0m in \u001b[0;36m__call__\u001b[0;34m(self, *args)\u001b[0m\n\u001b[1;32m   1320\u001b[0m \u001b[0;34m\u001b[0m\u001b[0m\n\u001b[1;32m   1321\u001b[0m         \u001b[0manswer\u001b[0m \u001b[0;34m=\u001b[0m \u001b[0mself\u001b[0m\u001b[0;34m.\u001b[0m\u001b[0mgateway_client\u001b[0m\u001b[0;34m.\u001b[0m\u001b[0msend_command\u001b[0m\u001b[0;34m(\u001b[0m\u001b[0mcommand\u001b[0m\u001b[0;34m)\u001b[0m\u001b[0;34m\u001b[0m\u001b[0;34m\u001b[0m\u001b[0m\n\u001b[0;32m-> 1322\u001b[0;31m         return_value = get_return_value(\n\u001b[0m\u001b[1;32m   1323\u001b[0m             answer, self.gateway_client, self.target_id, self.name)\n\u001b[1;32m   1324\u001b[0m \u001b[0;34m\u001b[0m\u001b[0m\n",
            "\u001b[0;32m/usr/local/lib/python3.10/dist-packages/pyspark/errors/exceptions/captured.py\u001b[0m in \u001b[0;36mdeco\u001b[0;34m(*a, **kw)\u001b[0m\n\u001b[1;32m    177\u001b[0m     \u001b[0;32mdef\u001b[0m \u001b[0mdeco\u001b[0m\u001b[0;34m(\u001b[0m\u001b[0;34m*\u001b[0m\u001b[0ma\u001b[0m\u001b[0;34m:\u001b[0m \u001b[0mAny\u001b[0m\u001b[0;34m,\u001b[0m \u001b[0;34m**\u001b[0m\u001b[0mkw\u001b[0m\u001b[0;34m:\u001b[0m \u001b[0mAny\u001b[0m\u001b[0;34m)\u001b[0m \u001b[0;34m->\u001b[0m \u001b[0mAny\u001b[0m\u001b[0;34m:\u001b[0m\u001b[0;34m\u001b[0m\u001b[0;34m\u001b[0m\u001b[0m\n\u001b[1;32m    178\u001b[0m         \u001b[0;32mtry\u001b[0m\u001b[0;34m:\u001b[0m\u001b[0;34m\u001b[0m\u001b[0;34m\u001b[0m\u001b[0m\n\u001b[0;32m--> 179\u001b[0;31m             \u001b[0;32mreturn\u001b[0m \u001b[0mf\u001b[0m\u001b[0;34m(\u001b[0m\u001b[0;34m*\u001b[0m\u001b[0ma\u001b[0m\u001b[0;34m,\u001b[0m \u001b[0;34m**\u001b[0m\u001b[0mkw\u001b[0m\u001b[0;34m)\u001b[0m\u001b[0;34m\u001b[0m\u001b[0;34m\u001b[0m\u001b[0m\n\u001b[0m\u001b[1;32m    180\u001b[0m         \u001b[0;32mexcept\u001b[0m \u001b[0mPy4JJavaError\u001b[0m \u001b[0;32mas\u001b[0m \u001b[0me\u001b[0m\u001b[0;34m:\u001b[0m\u001b[0;34m\u001b[0m\u001b[0;34m\u001b[0m\u001b[0m\n\u001b[1;32m    181\u001b[0m             \u001b[0mconverted\u001b[0m \u001b[0;34m=\u001b[0m \u001b[0mconvert_exception\u001b[0m\u001b[0;34m(\u001b[0m\u001b[0me\u001b[0m\u001b[0;34m.\u001b[0m\u001b[0mjava_exception\u001b[0m\u001b[0;34m)\u001b[0m\u001b[0;34m\u001b[0m\u001b[0;34m\u001b[0m\u001b[0m\n",
            "\u001b[0;32m/usr/local/lib/python3.10/dist-packages/py4j/protocol.py\u001b[0m in \u001b[0;36mget_return_value\u001b[0;34m(answer, gateway_client, target_id, name)\u001b[0m\n\u001b[1;32m    324\u001b[0m             \u001b[0mvalue\u001b[0m \u001b[0;34m=\u001b[0m \u001b[0mOUTPUT_CONVERTER\u001b[0m\u001b[0;34m[\u001b[0m\u001b[0mtype\u001b[0m\u001b[0;34m]\u001b[0m\u001b[0;34m(\u001b[0m\u001b[0manswer\u001b[0m\u001b[0;34m[\u001b[0m\u001b[0;36m2\u001b[0m\u001b[0;34m:\u001b[0m\u001b[0;34m]\u001b[0m\u001b[0;34m,\u001b[0m \u001b[0mgateway_client\u001b[0m\u001b[0;34m)\u001b[0m\u001b[0;34m\u001b[0m\u001b[0;34m\u001b[0m\u001b[0m\n\u001b[1;32m    325\u001b[0m             \u001b[0;32mif\u001b[0m \u001b[0manswer\u001b[0m\u001b[0;34m[\u001b[0m\u001b[0;36m1\u001b[0m\u001b[0;34m]\u001b[0m \u001b[0;34m==\u001b[0m \u001b[0mREFERENCE_TYPE\u001b[0m\u001b[0;34m:\u001b[0m\u001b[0;34m\u001b[0m\u001b[0;34m\u001b[0m\u001b[0m\n\u001b[0;32m--> 326\u001b[0;31m                 raise Py4JJavaError(\n\u001b[0m\u001b[1;32m    327\u001b[0m                     \u001b[0;34m\"An error occurred while calling {0}{1}{2}.\\n\"\u001b[0m\u001b[0;34m.\u001b[0m\u001b[0;34m\u001b[0m\u001b[0;34m\u001b[0m\u001b[0m\n\u001b[1;32m    328\u001b[0m                     format(target_id, \".\", name), value)\n",
            "\u001b[0;31mPy4JJavaError\u001b[0m: An error occurred while calling o50.load.\n: org.apache.spark.SparkClassNotFoundException: [DATA_SOURCE_NOT_FOUND] Failed to find the data source: com.crealytics.spark.excel. Please find packages at `https://spark.apache.org/third-party-projects.html`.\n\tat org.apache.spark.sql.errors.QueryExecutionErrors$.dataSourceNotFoundError(QueryExecutionErrors.scala:724)\n\tat org.apache.spark.sql.execution.datasources.DataSource$.lookupDataSource(DataSource.scala:647)\n\tat org.apache.spark.sql.execution.datasources.DataSource$.lookupDataSourceV2(DataSource.scala:697)\n\tat org.apache.spark.sql.DataFrameReader.load(DataFrameReader.scala:208)\n\tat org.apache.spark.sql.DataFrameReader.load(DataFrameReader.scala:186)\n\tat java.base/jdk.internal.reflect.NativeMethodAccessorImpl.invoke0(Native Method)\n\tat java.base/jdk.internal.reflect.NativeMethodAccessorImpl.invoke(NativeMethodAccessorImpl.java:62)\n\tat java.base/jdk.internal.reflect.DelegatingMethodAccessorImpl.invoke(DelegatingMethodAccessorImpl.java:43)\n\tat java.base/java.lang.reflect.Method.invoke(Method.java:566)\n\tat py4j.reflection.MethodInvoker.invoke(MethodInvoker.java:244)\n\tat py4j.reflection.ReflectionEngine.invoke(ReflectionEngine.java:374)\n\tat py4j.Gateway.invoke(Gateway.java:282)\n\tat py4j.commands.AbstractCommand.invokeMethod(AbstractCommand.java:132)\n\tat py4j.commands.CallCommand.execute(CallCommand.java:79)\n\tat py4j.ClientServerConnection.waitForCommands(ClientServerConnection.java:182)\n\tat py4j.ClientServerConnection.run(ClientServerConnection.java:106)\n\tat java.base/java.lang.Thread.run(Thread.java:829)\nCaused by: java.lang.ClassNotFoundException: com.crealytics.spark.excel.DefaultSource\n\tat java.base/java.net.URLClassLoader.findClass(URLClassLoader.java:476)\n\tat java.base/java.lang.ClassLoader.loadClass(ClassLoader.java:594)\n\tat java.base/java.lang.ClassLoader.loadClass(ClassLoader.java:527)\n\tat org.apache.spark.sql.execution.datasources.DataSource$.$anonfun$lookupDataSource$5(DataSource.scala:633)\n\tat scala.util.Try$.apply(Try.scala:213)\n\tat org.apache.spark.sql.execution.datasources.DataSource$.$anonfun$lookupDataSource$4(DataSource.scala:633)\n\tat scala.util.Failure.orElse(Try.scala:224)\n\tat org.apache.spark.sql.execution.datasources.DataSource$.lookupDataSource(DataSource.scala:633)\n\t... 15 more\n"
          ]
        }
      ]
    },
    {
      "cell_type": "code",
      "source": [
        "%pip install pyspark\n",
        "%pip install openpyxl\n",
        "%pip install com.crealytics:spark-excel_2.12:0.13.5\n"
      ],
      "metadata": {
        "colab": {
          "base_uri": "https://localhost:8080/"
        },
        "id": "LY7O1wN-he5t",
        "outputId": "2426b57f-7bc4-4ac7-f4bc-764b2a4e1fc2"
      },
      "execution_count": null,
      "outputs": [
        {
          "output_type": "stream",
          "name": "stdout",
          "text": [
            "Requirement already satisfied: pyspark in /usr/local/lib/python3.10/dist-packages (3.5.1)\n",
            "Requirement already satisfied: py4j==0.10.9.7 in /usr/local/lib/python3.10/dist-packages (from pyspark) (0.10.9.7)\n",
            "Requirement already satisfied: openpyxl in /usr/local/lib/python3.10/dist-packages (3.1.2)\n",
            "Requirement already satisfied: et-xmlfile in /usr/local/lib/python3.10/dist-packages (from openpyxl) (1.1.0)\n",
            "\u001b[31mERROR: Invalid requirement: 'com.crealytics:spark-excel_2.12:0.13.5'\u001b[0m\u001b[31m\n",
            "\u001b[0m"
          ]
        }
      ]
    },
    {
      "cell_type": "code",
      "source": [
        "from pyspark.sql import SparkSession\n",
        "spark = SparkSession.builder \\\n",
        "    .appName(\"our first session\") \\\n",
        "    .config(\"spark.sql.sessionEncoding\", \"UTF-8\") \\\n",
        "    .getOrCreate()\n",
        "\n",
        "df = spark.read.csv(\"googlePatents.csv\", header=True, encoding=\"UTF-8\")\n",
        "\n",
        "df.show()\n"
      ],
      "metadata": {
        "colab": {
          "base_uri": "https://localhost:8080/"
        },
        "id": "joijnWPuhfXX",
        "outputId": "b54278f7-d88b-4ff1-cfe6-5cdcdad7d12e"
      },
      "execution_count": null,
      "outputs": [
        {
          "output_type": "stream",
          "name": "stdout",
          "text": [
            "+----------------+--------------------+-----------------------------------+-------------------------------+-------------+--------------------+----------------+----------+\n",
            "|              id|               title|                           assignee|                inventor/author|priority date|filing/creation date|publication date|grant date|\n",
            "+----------------+--------------------+-----------------------------------+-------------------------------+-------------+--------------------+----------------+----------+\n",
            "|  CN-114151200-A|            Igniter |         中国航发四川燃气涡轮研究院|  魏豪, 时远, 何鹏, 赵弦, 袁...|   2021-10-20|          2021-10-20|      2022-03-08|      NULL|\n",
            "|   US-9869277-B2|System, method an...|               Foret Plasma Labs...|                     Todd Foret|   2008-02-12|          2014-05-28|      2018-01-16|2018-01-16|\n",
            "|US-2021215100-A1|Blow down impinge...|               Rolls-Royce North...|           Michael John Head...|   2020-01-14|          2020-01-14|      2021-07-15|      NULL|\n",
            "|   US-7966830-B2|Fuel cell/combust...|                 The Boeing Company|               David L. Daggett|   2006-06-29|          2006-06-29|      2011-06-28|2011-06-28|\n",
            "|    GB-2602936-A|  Propulsion system |                   Derwent Tech Ltd|           Harold Speak Trev...|   2022-04-20|          2022-04-20|      2022-07-20|      NULL|\n",
            "|   EP-2086834-B1|Propulsion device...|               Airbus Operations...|           Andreas Westenberger|   2006-11-29|          2007-11-26|      2011-07-27|2011-07-27|\n",
            "|  US-11572840-B2|Multi-mode combus...|               General Electric ...|           Joel Meier Haynes...|   2019-12-03|          2019-12-03|      2023-02-07|2023-02-07|\n",
            "|  CN-112855343-A|Aviation power sy...| 中国航发商用航空发动机有限责任公司|           梁霄, 赵凌玲, 任家海|   2019-11-28|          2019-11-28|      2021-05-28|      NULL|\n",
            "|  CN-114109649-B|Superspeed ramjet...|               中国科学院力学研究所|仝晓通, 岳连捷, 张启帆, 陈昊...|   2021-11-15|          2021-11-15|      2022-11-22|2022-11-22|\n",
            "|  CN-108839807-A|A kind of novel m...|                     哈尔滨工业大学|秦江, 吕传文, 程昆林, 郭发福...|   2018-05-14|          2018-05-14|      2018-11-20|      NULL|\n",
            "|KR-20220002857-A|Aircraft prime mo...|쥐케이엔 에어로스페이스 서비시즈...|                  사이먼 테일러|   2018-10-15|          2019-10-15|      2022-01-07|      NULL|\n",
            "|US-2019293024-A1|Hydrogen-fueled s...|               Global Reach Aero...|           Preston Henry Carter|   2018-02-23|          2019-02-25|      2019-09-26|      NULL|\n",
            "|   US-9291124-B2|Combined cycle in...|               Aerojet Rocketdyn...|               Melvin J. Bulman|   2006-12-18|          2014-03-06|      2016-03-22|2016-03-22|\n",
            "|   RU-2462397-C2|Aircraft power pl...|               Эйрбас Оперейшнз ...|           Андреас ВЕСТЕНБЕР...|   2006-11-29|          2007-11-28|      2012-09-27|2012-09-27|\n",
            "|  US-11885260-B2|Gas turbine engin...|                    Rtx Corporation|           Amanda J. L. Bouc...|   2020-05-01|          2022-08-24|      2024-01-30|2024-01-30|\n",
            "|   US-8434292-B2|Ceramic-encased h...|               State Of Franklin...|           Martin P. Eason, ...|   2006-12-15|          2007-12-17|      2013-05-07|2013-05-07|\n",
            "|   US-7690192-B2|Compact, high per...|               Pratt & Whitney R...|           Robert J. Pederso...|   2007-04-17|          2007-05-22|      2010-04-06|2010-04-06|\n",
            "|   EP-2074324-B1|Core burning for ...|               Aerojet-General C...|               Melvin J. Bulman|   2006-10-18|          2007-10-15|      2013-02-27|2013-02-27|\n",
            "|    US-2655786-A|Method of operati...|               Phillips Petroleu...|                  Donald E Carr|   1950-09-18|          1950-09-18|      1953-10-20|1953-10-20|\n",
            "|  US-11542878-B2|Zero emission pro...|                 Lars Harald Heggen|             Lars Harald Heggen|   2017-08-14|          2021-10-18|      2023-01-03|2023-01-03|\n",
            "+----------------+--------------------+-----------------------------------+-------------------------------+-------------+--------------------+----------------+----------+\n",
            "only showing top 20 rows\n",
            "\n"
          ]
        }
      ]
    },
    {
      "cell_type": "code",
      "source": [
        "df.printSchema()"
      ],
      "metadata": {
        "colab": {
          "base_uri": "https://localhost:8080/"
        },
        "id": "eGzGfYlDiXLA",
        "outputId": "22dea1c2-27d1-4ce9-f184-358ca1a0d47b"
      },
      "execution_count": null,
      "outputs": [
        {
          "output_type": "stream",
          "name": "stdout",
          "text": [
            "root\n",
            " |-- id: string (nullable = true)\n",
            " |-- title: string (nullable = true)\n",
            " |-- assignee: string (nullable = true)\n",
            " |-- inventor/author: string (nullable = true)\n",
            " |-- priority date: string (nullable = true)\n",
            " |-- filing/creation date: string (nullable = true)\n",
            " |-- publication date: string (nullable = true)\n",
            " |-- grant date: string (nullable = true)\n",
            "\n"
          ]
        }
      ]
    },
    {
      "cell_type": "code",
      "source": [
        "# df = spark.read.csv(\"googlePatents.csv\", header=True, encoding=\"UTF-8\")\n",
        "\n",
        "# # Define a list of possible technology sectors\n",
        "# technology_sectors = [\"Software\", \"Biotechnology\", \"Electronics\", \"Healthcare\", \"Automotive\", \"Telecom\"]\n",
        "\n",
        "# # Create a UDF to assign random technology sectors\n",
        "# def random_technology_sector():\n",
        "#     return random.choice(technology_sectors)\n",
        "\n",
        "# random_technology_sector_udf = udf(random_technology_sector, StringType())\n",
        "\n",
        "# # Add a new column with random technology sectors\n",
        "# df_with_technology_sector = df.withColumn(\"technology_sector\", random_technology_sector_udf())\n",
        "\n",
        "# # Display the DataFrame\n",
        "# df_with_technology_sector.show()\n",
        "# Step 1: Set Up Spark Environment with Excel Dependency\n",
        "from pyspark.sql import SparkSession\n",
        "from pyspark.sql.functions import udf\n",
        "from pyspark.sql.types import StringType\n",
        "\n",
        "# Initialize Spark session with the Excel library dependency\n",
        "spark = SparkSession.builder \\\n",
        "    .appName(\"Patent NLP\") \\\n",
        "    .config(\"spark.jars.packages\", \"com.crealytics:spark-excel_2.12:0.13.5\") \\\n",
        "    .getOrCreate()\n",
        "\n",
        "# Step 2: Load Data into Spark\n",
        "file_path = \"/mnt/data/updated_data(1).xlsx\"\n",
        "\n",
        "df = spark.read.format(\"com.crealytics.spark.excel\") \\\n",
        "    .option(\"header\", \"true\") \\\n",
        "    .option(\"inferSchema\", \"true\") \\\n",
        "    .load(file_path)\n",
        "\n",
        "# Step 3: Detect and Tokenize Text Data Based on Language\n",
        "import nltk\n",
        "from nltk.tokenize import word_tokenize\n",
        "import jieba\n",
        "from janome.tokenizer import Tokenizer as JanomeTokenizer\n",
        "from konlpy.tag import Okt\n",
        "\n",
        "# Download NLTK data\n",
        "nltk.download('punkt')\n",
        "\n",
        "# Define UDF for language detection\n",
        "from langdetect import detect\n",
        "\n",
        "def detect_language(text):\n",
        "    try:\n",
        "        return detect(text)\n",
        "    except:\n",
        "        return 'unknown'\n",
        "\n",
        "detect_language_udf = udf(detect_language, StringType())\n",
        "df = df.withColumn(\"language\", detect_language_udf(df.title))\n",
        "\n",
        "# Define UDFs for tokenization\n",
        "def tokenize(text, lang):\n",
        "    if lang == 'zh-cn':  # Chinese\n",
        "        return ' '.join(jieba.cut(text))\n",
        "    elif lang == 'ja':  # Japanese\n",
        "        janome_tokenizer = JanomeTokenizer()\n",
        "        return ' '.join([token.surface for token in janome_tokenizer.tokenize(text)])\n",
        "    elif lang == 'ko':  # Korean\n",
        "        okt = Okt()\n",
        "        return ' '.join(okt.morphs(text))\n",
        "    else:  # Default to English\n",
        "        return ' '.join(word_tokenize(text.lower()))\n",
        "\n",
        "def tokenize_combined(text, lang):\n",
        "    return tokenize(text, lang)\n",
        "\n",
        "tokenize_udf = udf(tokenize_combined, StringType())\n",
        "df = df.withColumn(\"tokenized_title\", tokenize_udf(df.title, df.language))\n",
        "\n",
        "# Step 4: Extract Technology Sector and Industry using NLP\n",
        "def determine_sector(title):\n",
        "    keywords_sector = {\n",
        "        \"software\": [\"software\", \"application\", \"program\"],\n",
        "        \"biotechnology\": [\"gene\", \"biotech\", \"protein\"],\n",
        "        \"electronics\": [\"circuit\", \"chip\", \"semiconductor\"],\n",
        "        # Add more sectors and keywords as needed\n",
        "    }\n",
        "    for sector, keywords in keywords_sector.items():\n",
        "        if any(keyword in title for keyword in keywords):\n",
        "            return sector\n",
        "    return \"unknown\"\n",
        "\n",
        "def determine_industry(title):\n",
        "    keywords_industry = {\n",
        "        \"healthcare\": [\"medical\", \"health\", \"surgery\"],\n",
        "        \"automotive\": [\"vehicle\", \"car\", \"engine\"],\n",
        "        \"telecom\": [\"communication\", \"network\", \"signal\"],\n",
        "        # Add more industries and keywords as needed\n",
        "    }\n",
        "    for industry, keywords in keywords_industry.items():\n",
        "        if any(keyword in title for keyword in keywords):\n",
        "            return industry\n",
        "    return \"unknown\"\n",
        "\n",
        "sector_udf = udf(determine_sector, StringType())\n",
        "industry_udf = udf(determine_industry, StringType())\n",
        "\n",
        "df = df.withColumn(\"technology_sector\", sector_udf(df.tokenized_title))\n",
        "df = df.withColumn(\"industry\", industry_udf(df.tokenized_title))\n",
        "\n",
        "# Step 5: Save the Updated DataFrame\n",
        "output_path = \"updated_data_with_sectors_industries.xlsx\"\n",
        "df.write.format(\"com.crealytics.spark.excel\") \\\n",
        "    .option(\"header\", \"true\") \\\n",
        "    .save(output_path)\n"
      ],
      "metadata": {
        "colab": {
          "base_uri": "https://localhost:8080/"
        },
        "id": "BvurjxCtmZbq",
        "outputId": "1d50df1d-8cd7-44c9-d4f5-ff95001cfc37"
      },
      "execution_count": null,
      "outputs": [
        {
          "output_type": "stream",
          "name": "stdout",
          "text": [
            "+----------------+--------------------+-----------------------------------+-------------------------------+-------------+--------------------+----------------+----------+-----------------+\n",
            "|              id|               title|                           assignee|                inventor/author|priority date|filing/creation date|publication date|grant date|technology_sector|\n",
            "+----------------+--------------------+-----------------------------------+-------------------------------+-------------+--------------------+----------------+----------+-----------------+\n",
            "|  CN-114151200-A|            Igniter |         中国航发四川燃气涡轮研究院|  魏豪, 时远, 何鹏, 赵弦, 袁...|   2021-10-20|          2021-10-20|      2022-03-08|      NULL|          Telecom|\n",
            "|   US-9869277-B2|System, method an...|               Foret Plasma Labs...|                     Todd Foret|   2008-02-12|          2014-05-28|      2018-01-16|2018-01-16|      Electronics|\n",
            "|US-2021215100-A1|Blow down impinge...|               Rolls-Royce North...|           Michael John Head...|   2020-01-14|          2020-01-14|      2021-07-15|      NULL|          Telecom|\n",
            "|   US-7966830-B2|Fuel cell/combust...|                 The Boeing Company|               David L. Daggett|   2006-06-29|          2006-06-29|      2011-06-28|2011-06-28|    Biotechnology|\n",
            "|    GB-2602936-A|  Propulsion system |                   Derwent Tech Ltd|           Harold Speak Trev...|   2022-04-20|          2022-04-20|      2022-07-20|      NULL|      Electronics|\n",
            "|   EP-2086834-B1|Propulsion device...|               Airbus Operations...|           Andreas Westenberger|   2006-11-29|          2007-11-26|      2011-07-27|2011-07-27|         Software|\n",
            "|  US-11572840-B2|Multi-mode combus...|               General Electric ...|           Joel Meier Haynes...|   2019-12-03|          2019-12-03|      2023-02-07|2023-02-07|       Healthcare|\n",
            "|  CN-112855343-A|Aviation power sy...| 中国航发商用航空发动机有限责任公司|           梁霄, 赵凌玲, 任家海|   2019-11-28|          2019-11-28|      2021-05-28|      NULL|       Automotive|\n",
            "|  CN-114109649-B|Superspeed ramjet...|               中国科学院力学研究所|仝晓通, 岳连捷, 张启帆, 陈昊...|   2021-11-15|          2021-11-15|      2022-11-22|2022-11-22|         Software|\n",
            "|  CN-108839807-A|A kind of novel m...|                     哈尔滨工业大学|秦江, 吕传文, 程昆林, 郭发福...|   2018-05-14|          2018-05-14|      2018-11-20|      NULL|         Software|\n",
            "|KR-20220002857-A|Aircraft prime mo...|쥐케이엔 에어로스페이스 서비시즈...|                  사이먼 테일러|   2018-10-15|          2019-10-15|      2022-01-07|      NULL|         Software|\n",
            "|US-2019293024-A1|Hydrogen-fueled s...|               Global Reach Aero...|           Preston Henry Carter|   2018-02-23|          2019-02-25|      2019-09-26|      NULL|         Software|\n",
            "|   US-9291124-B2|Combined cycle in...|               Aerojet Rocketdyn...|               Melvin J. Bulman|   2006-12-18|          2014-03-06|      2016-03-22|2016-03-22|       Healthcare|\n",
            "|   RU-2462397-C2|Aircraft power pl...|               Эйрбас Оперейшнз ...|           Андреас ВЕСТЕНБЕР...|   2006-11-29|          2007-11-28|      2012-09-27|2012-09-27|      Electronics|\n",
            "|  US-11885260-B2|Gas turbine engin...|                    Rtx Corporation|           Amanda J. L. Bouc...|   2020-05-01|          2022-08-24|      2024-01-30|2024-01-30|    Biotechnology|\n",
            "|   US-8434292-B2|Ceramic-encased h...|               State Of Franklin...|           Martin P. Eason, ...|   2006-12-15|          2007-12-17|      2013-05-07|2013-05-07|       Healthcare|\n",
            "|   US-7690192-B2|Compact, high per...|               Pratt & Whitney R...|           Robert J. Pederso...|   2007-04-17|          2007-05-22|      2010-04-06|2010-04-06|       Automotive|\n",
            "|   EP-2074324-B1|Core burning for ...|               Aerojet-General C...|               Melvin J. Bulman|   2006-10-18|          2007-10-15|      2013-02-27|2013-02-27|         Software|\n",
            "|    US-2655786-A|Method of operati...|               Phillips Petroleu...|                  Donald E Carr|   1950-09-18|          1950-09-18|      1953-10-20|1953-10-20|          Telecom|\n",
            "|  US-11542878-B2|Zero emission pro...|                 Lars Harald Heggen|             Lars Harald Heggen|   2017-08-14|          2021-10-18|      2023-01-03|2023-01-03|    Biotechnology|\n",
            "+----------------+--------------------+-----------------------------------+-------------------------------+-------------+--------------------+----------------+----------+-----------------+\n",
            "only showing top 20 rows\n",
            "\n"
          ]
        }
      ]
    },
    {
      "cell_type": "code",
      "source": [
        "df_with_technology_sector.printSchema()"
      ],
      "metadata": {
        "colab": {
          "base_uri": "https://localhost:8080/"
        },
        "id": "34EZ8JeVmhYc",
        "outputId": "b983af1e-73db-4cb9-9292-0c51e6834e3b"
      },
      "execution_count": null,
      "outputs": [
        {
          "output_type": "stream",
          "name": "stdout",
          "text": [
            "root\n",
            " |-- id: string (nullable = true)\n",
            " |-- title: string (nullable = true)\n",
            " |-- assignee: string (nullable = true)\n",
            " |-- inventor/author: string (nullable = true)\n",
            " |-- priority date: string (nullable = true)\n",
            " |-- filing/creation date: string (nullable = true)\n",
            " |-- publication date: string (nullable = true)\n",
            " |-- grant date: string (nullable = true)\n",
            " |-- technology_sector: string (nullable = true)\n",
            "\n"
          ]
        }
      ]
    },
    {
      "cell_type": "code",
      "source": [
        "from pyspark.sql import SparkSession\n",
        "from pyspark.sql.functions import udf\n",
        "from pyspark.sql.types import StringType\n",
        "import random\n",
        "\n",
        "# Initialize Spark session\n",
        "spark = SparkSession.builder \\\n",
        "    .appName(\"our first session\") \\\n",
        "    .config(\"spark.sql.sessionEncoding\", \"UTF-8\") \\\n",
        "    .getOrCreate()\n",
        "\n",
        "# Read the CSV file\n",
        "df = spark.read.csv(\"googlePatents.csv\", header=True, encoding=\"UTF-8\")\n",
        "\n",
        "\n",
        "\n",
        "# Add a new column with random technology sectors\n",
        "df_with_technology_sector = df.withColumn(\"technology_sector\", random_technology_sector_udf())\n",
        "\n",
        "# Select only the \"id\" and \"technology_sector\" columns\n",
        "df_selected = df_with_technology_sector.select(\"id\", \"technology_sector\")\n",
        "\n",
        "# Display the DataFrame\n",
        "df_selected.show()\n"
      ],
      "metadata": {
        "colab": {
          "base_uri": "https://localhost:8080/"
        },
        "id": "rczeFtmQm3HF",
        "outputId": "ea068e77-c4a9-4be7-d6d2-67b6c5902e88"
      },
      "execution_count": null,
      "outputs": [
        {
          "output_type": "stream",
          "name": "stdout",
          "text": [
            "+----------------+-----------------+\n",
            "|              id|technology_sector|\n",
            "+----------------+-----------------+\n",
            "|  CN-114151200-A|         Software|\n",
            "|   US-9869277-B2|          Telecom|\n",
            "|US-2021215100-A1|      Electronics|\n",
            "|   US-7966830-B2|          Telecom|\n",
            "|    GB-2602936-A|    Biotechnology|\n",
            "|   EP-2086834-B1|    Biotechnology|\n",
            "|  US-11572840-B2|       Automotive|\n",
            "|  CN-112855343-A|      Electronics|\n",
            "|  CN-114109649-B|       Healthcare|\n",
            "|  CN-108839807-A|         Software|\n",
            "|KR-20220002857-A|         Software|\n",
            "|US-2019293024-A1|          Telecom|\n",
            "|   US-9291124-B2|         Software|\n",
            "|   RU-2462397-C2|          Telecom|\n",
            "|  US-11885260-B2|    Biotechnology|\n",
            "|   US-8434292-B2|    Biotechnology|\n",
            "|   US-7690192-B2|         Software|\n",
            "|   EP-2074324-B1|       Healthcare|\n",
            "|    US-2655786-A|    Biotechnology|\n",
            "|  US-11542878-B2|       Automotive|\n",
            "+----------------+-----------------+\n",
            "only showing top 20 rows\n",
            "\n"
          ]
        }
      ]
    },
    {
      "cell_type": "code",
      "source": [
        "from pyspark.sql import SparkSession\n",
        "from pyspark.sql.functions import udf\n",
        "from pyspark.sql.types import StringType\n",
        "import random\n",
        "\n",
        "# Initialize Spark session\n",
        "spark = SparkSession.builder \\\n",
        "    .appName(\"our first session\") \\\n",
        "    .config(\"spark.sql.sessionEncoding\", \"UTF-8\") \\\n",
        "    .getOrCreate()\n",
        "\n",
        "# Read the CSV file\n",
        "df = spark.read.csv(\"googlePatents.csv\", header=True, encoding=\"UTF-8\")\n",
        "\n",
        "# Define a list of possible technology sectors\n",
        "technology_sectors = [\"Software\", \"Biotechnology\", \"Electronics\", \"Healthcare\", \"Automotive\", \"Telecom\"]\n",
        "\n",
        "# Create a UDF to assign random technology sectors\n",
        "def random_technology_sector():\n",
        "    return random.choice(technology_sectors)\n",
        "\n",
        "random_technology_sector_udf = udf(random_technology_sector, StringType())\n",
        "\n",
        "# Add a new column with random technology sectors\n",
        "df_with_technology_sector = df.withColumn(\"technology_sector\", random_technology_sector_udf())\n",
        "\n",
        "# Select only the \"id\" and \"technology_sector\" columns\n",
        "df_selected = df_with_technology_sector.select(\"id\", \"technology_sector\")\n",
        "\n",
        "# Save the resulting DataFrame as a CSV file\n",
        "output_path = \"patents_with_technology_sector.csv\"\n",
        "df_selected.write.csv(output_path, header=True)\n"
      ],
      "metadata": {
        "id": "QgY6m1NPnpRE"
      },
      "execution_count": null,
      "outputs": []
    },
    {
      "cell_type": "code",
      "source": [
        "from google.colab import drive\n",
        "drive.mount('/content/drive')\n",
        "output_path = \"/content/drive/My Drive/patents_with_technology_sector.csv\"\n",
        "df_selected.write.csv(output_path, header=True)\n"
      ],
      "metadata": {
        "colab": {
          "base_uri": "https://localhost:8080/"
        },
        "id": "q4AzhZe4oWjm",
        "outputId": "e5848a85-f546-4a1e-b992-d731060333bf"
      },
      "execution_count": null,
      "outputs": [
        {
          "output_type": "stream",
          "name": "stdout",
          "text": [
            "Mounted at /content/drive\n"
          ]
        }
      ]
    },
    {
      "cell_type": "code",
      "source": [
        "from google.colab import drive\n",
        "import pandas as pd\n",
        "\n",
        "# Mount Google Drive\n",
        "drive.mount('/content/drive')\n",
        "\n",
        "# Specify output path\n",
        "output_path = \"/content/drive/My Drive/patents_with_technology_sector.xlsx\"\n",
        "\n",
        "# Convert Spark DataFrame to Pandas DataFrame\n",
        "df_pandas = df_selected.toPandas()\n",
        "\n",
        "# Save Pandas DataFrame to XLSX file\n",
        "df_pandas.to_excel(output_path, index=False)\n"
      ],
      "metadata": {
        "colab": {
          "base_uri": "https://localhost:8080/"
        },
        "id": "LDGK7JKSooVb",
        "outputId": "ffecc40e-2633-4d1a-85e3-aaa0e8df56d7"
      },
      "execution_count": null,
      "outputs": [
        {
          "output_type": "stream",
          "name": "stdout",
          "text": [
            "Drive already mounted at /content/drive; to attempt to forcibly remount, call drive.mount(\"/content/drive\", force_remount=True).\n"
          ]
        }
      ]
    },
    {
      "cell_type": "code",
      "source": [],
      "metadata": {
        "id": "aSFNiBC7qfmI"
      },
      "execution_count": null,
      "outputs": []
    }
  ],
  "metadata": {
    "colab": {
      "provenance": []
    },
    "kernelspec": {
      "display_name": "Python 3",
      "name": "python3"
    },
    "language_info": {
      "name": "python"
    }
  },
  "nbformat": 4,
  "nbformat_minor": 0
}